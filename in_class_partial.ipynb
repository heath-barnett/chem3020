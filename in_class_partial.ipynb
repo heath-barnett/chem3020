{
 "cells": [
  {
   "cell_type": "code",
   "execution_count": 78,
   "metadata": {},
   "outputs": [],
   "source": [
    "from sympy import *\n",
    "init_printing(use_unicode=True)\n",
    "%matplotlib inline\n",
    "\n",
    "P,V,T,m = symbols(\"P,V_m,T,m\", positive=True, real=True)                 # variables\n",
    "R,a,b,k,M = symbols(\"R,alpha,beta, kappa, M\", positive=True, real=True, constant=True)  # constants"
   ]
  },
  {
   "cell_type": "markdown",
   "metadata": {},
   "source": [
    "Consider an ideal gas that obeys the equation of state,\n",
    "\n",
    "$$ PV_m = RT $$\n",
    "\n",
    "The thermal expansivity, $\\alpha$, and the isothermal compressibility, $\\kappa$, of a substance are defined as,\n",
    "\n",
    "$$ \\alpha = \\frac{1}{V_m} \\left( \\frac{\\partial V_m}{\\partial T} \\right)_P $$\n",
    "\n",
    "$$ \\kappa = -\\frac{1}{V_m} \\left( \\frac{\\partial V_m}{\\partial P} \\right)_T $$\n",
    "\n",
    "A relationship exists between these properties,\n",
    "\n",
    "$$   \\frac{\\alpha}{\\kappa} = \\left( \\frac{\\partial P}{\\partial T} \\right)_{V_m}$$\n",
    "\n",
    "Prove that this relationship is true, for an ideal gas."
   ]
  },
  {
   "cell_type": "code",
   "execution_count": 24,
   "metadata": {},
   "outputs": [
    {
     "data": {
      "image/png": "[encoded data removed]",
      "text/latex": [
       "$\\displaystyle V_{m} = \\frac{R T}{P}$"
      ],
      "text/plain": [
       "     R⋅T\n",
       "Vₘ = ───\n",
       "      P "
      ]
     },
     "metadata": {},
     "output_type": "display_data"
    },
    {
     "data": {
      "image/png": "[encoded data removed]",
      "text/latex": [
       "$\\displaystyle P = \\frac{R T}{V_{m}}$"
      ],
      "text/plain": [
       "    R⋅T\n",
       "P = ───\n",
       "     Vₘ"
      ]
     },
     "metadata": {},
     "output_type": "display_data"
    }
   ],
   "source": [
    "eos_ideal = P*V-R*T\n",
    "display(Eq(V,solve(eos_ideal,V)[0]))\n",
    "V_ideal_expr = solve(eos_ideal,V)[0]\n",
    "\n",
    "display(Eq(P,solve(eos_ideal,P)[0]))\n",
    "P_ideal_expr = solve(eos_ideal,P)[0]"
   ]
  },
  {
   "cell_type": "markdown",
   "metadata": {},
   "source": [
    "We will evaluate $\\alpha$ and $\\kappa$ seperately (we will combine them at the end). I will do $\\alpha$ for you:\n",
    "\n",
    "$$\n",
    "\\alpha = \\frac{1}{V_m} \\left( \\frac{\\partial V_m}{\\partial T} \\right)_P\n",
    "$$\n",
    "\n",
    "substitute your expression for $V_m$ into the expression above:\n",
    "\n",
    "$$ \\alpha = \\frac{1}{\\left(\\frac{RT}{P}\\right)} \\left( \\frac{\\partial \\left(\\frac{RT}{P}\\right)}{\\partial T} \\right)_P $$\n",
    "\n",
    "This looks scary, but recall that R and P are constants within the parantheses. This means that we can pull them out of the derivative and into the preceding faction,\n",
    "\n",
    "$$ \\alpha = \\frac{\\left(\\frac{R}{P}\\right)}{\\left(\\frac{RT}{P}\\right)} \\left( \\frac{\\partial T}{\\partial T} \\right)_P $$\n",
    "\n",
    "At this point, $\\frac{\\delta T}{\\delta T}=1$ and some algebra on the remaining fraction:\n",
    "\n",
    "$$ \\alpha = \\frac{\\left(\\frac{R}{P}\\right)}{\\left(\\frac{RT}{P}\\right)} = \\left(\\frac{R}{P}\\right)\\left(\\frac{P}{RT}\\right)=\\frac{1}{T}$$\n",
    "\n",
    "$$ \\alpha = \\frac{1}{T}$$\n"
   ]
  },
  {
   "cell_type": "code",
   "execution_count": 44,
   "metadata": {},
   "outputs": [
    {
     "data": {
      "image/png": "[encoded data removed]",
      "text/latex": [
       "$\\displaystyle \\frac{1}{T}$"
      ],
      "text/plain": [
       "1\n",
       "─\n",
       "T"
      ]
     },
     "metadata": {},
     "output_type": "display_data"
    },
    {
     "data": {
      "image/png": "[encoded data removed]",
      "text/latex": [
       "$\\displaystyle \\alpha = \\frac{P \\frac{\\partial}{\\partial T} \\frac{R T}{P}}{R T} = \\frac{1}{T}$"
      ],
      "text/plain": [
       "      ∂ ⎛R⋅T⎞    \n",
       "    P⋅──⎜───⎟    \n",
       "      ∂T⎝ P ⎠   1\n",
       "α = ───────── = ─\n",
       "       R⋅T      T"
      ]
     },
     "metadata": {},
     "output_type": "display_data"
    }
   ],
   "source": [
    "a_expr = ((1/V)*(Derivative(V,T))).subs(V,V_ideal_expr)\n",
    "a_val = a_expr.doit()\n",
    "display(a_val) # just the answer\n",
    "display(Eq(a,Eq(a_expr,a_expr.doit()))) #fancy "
   ]
  },
  {
   "cell_type": "markdown",
   "metadata": {},
   "source": [
    "Now do something similar for $\\kappa$.\n",
    "\n",
    "$$\n",
    "\\kappa = -\\frac{1}{V_m} \\left( \\frac{\\partial V_m}{\\partial P} \\right)_T \n",
    "$$"
   ]
  },
  {
   "cell_type": "code",
   "execution_count": 45,
   "metadata": {},
   "outputs": [
    {
     "data": {
      "image/png": "[encoded data removed]",
      "text/latex": [
       "$\\displaystyle \\frac{1}{P}$"
      ],
      "text/plain": [
       "1\n",
       "─\n",
       "P"
      ]
     },
     "metadata": {},
     "output_type": "display_data"
    },
    {
     "data": {
      "image/png": "[encoded data removed]",
      "text/latex": [
       "$\\displaystyle \\kappa = - \\frac{P \\frac{\\partial}{\\partial P} \\frac{R T}{P}}{R T} = \\frac{1}{P}$"
      ],
      "text/plain": [
       "       ∂ ⎛R⋅T⎞     \n",
       "    -P⋅──⎜───⎟     \n",
       "       ∂P⎝ P ⎠    1\n",
       "κ = ─────────── = ─\n",
       "        R⋅T       P"
      ]
     },
     "metadata": {},
     "output_type": "display_data"
    }
   ],
   "source": [
    "k_expr = (-(1/V)*(Derivative(V,P))).subs(V,V_ideal_expr)\n",
    "k_val = k_expr.doit()\n",
    "display(k_val) # just the answer\n",
    "display(Eq(k,Eq(k_expr,k_expr.doit()))) # fancy"
   ]
  },
  {
   "cell_type": "markdown",
   "metadata": {},
   "source": [
    "\n",
    "Do something similar for $$\\left( \\frac{\\partial P}{\\partial T} \\right)_{V_m}$$"
   ]
  },
  {
   "cell_type": "code",
   "execution_count": 46,
   "metadata": {},
   "outputs": [
    {
     "data": {
      "image/png": "[encoded data removed]",
      "text/latex": [
       "$\\displaystyle \\frac{\\partial}{\\partial T} \\frac{R T}{V_{m}} = \\frac{R}{V_{m}}$"
      ],
      "text/plain": [
       "∂ ⎛R⋅T⎞   R \n",
       "──⎜───⎟ = ──\n",
       "∂T⎝ Vₘ⎠   Vₘ"
      ]
     },
     "metadata": {},
     "output_type": "display_data"
    }
   ],
   "source": [
    "partial_expr = Derivative(P,T).subs(P,P_ideal_expr)\n",
    "partial_val = partial_expr.doit()\n",
    "display(Eq(partial_expr,partial_val))"
   ]
  },
  {
   "cell_type": "markdown",
   "metadata": {},
   "source": [
    "Finally, substitute your expressions for $\\alpha$, $\\kappa$ and $\\left( \\frac{\\partial P}{\\partial T} \\right)_{V_m}$ back into:\n",
    "\n",
    "$$   \\frac{\\alpha}{\\kappa} = \\left( \\frac{\\partial P}{\\partial T} \\right)_{V_m}$$"
   ]
  },
  {
   "cell_type": "code",
   "execution_count": 76,
   "metadata": {},
   "outputs": [
    {
     "data": {
      "image/png": "[encoded data removed]",
      "text/latex": [
       "$\\displaystyle \\frac{P}{T} = \\frac{R}{V_{m}}$"
      ],
      "text/plain": [
       "P   R \n",
       "─ = ──\n",
       "T   Vₘ"
      ]
     },
     "metadata": {},
     "output_type": "display_data"
    }
   ],
   "source": [
    "proof = Eq(a_val/k_val,partial_val)\n",
    "display(Eq(a_val/k_val,partial_val))"
   ]
  },
  {
   "cell_type": "markdown",
   "metadata": {},
   "source": [
    "\n",
    "You should be able to see that the two expressions are the same, however, if you want to be extra sure. Solve your \"proof\" for P and compare that with the ideal gas expression solved for P. Use the `==` operator, if it comes back `True` they are the same."
   ]
  },
  {
   "cell_type": "code",
   "execution_count": 77,
   "metadata": {},
   "outputs": [
    {
     "data": {
      "text/plain": [
       "True"
      ]
     },
     "execution_count": 77,
     "metadata": {},
     "output_type": "execute_result"
    }
   ],
   "source": [
    "solve(proof,P)[0] == P_ideal_expr"
   ]
  }
 ],
 "metadata": {
  "kernelspec": {
   "display_name": "base",
   "language": "python",
   "name": "python3"
  },
  "language_info": {
   "codemirror_mode": {
    "name": "ipython",
    "version": 3
   },
   "file_extension": ".py",
   "mimetype": "text/x-python",
   "name": "python",
   "nbconvert_exporter": "python",
   "pygments_lexer": "ipython3",
   "version": "3.9.17"
  },
  "orig_nbformat": 4
 },
 "nbformat": 4,
 "nbformat_minor": 2
}
