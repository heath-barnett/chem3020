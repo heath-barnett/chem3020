{
  "nbformat": 4,
  "nbformat_minor": 0,
  "metadata": {
    "colab": {
      "provenance": [],
      "authorship_tag": "ABX9TyNoC0zqSR5yM4ftecnqxTqD",
      "include_colab_link": true
    },
    "kernelspec": {
      "name": "python3",
      "display_name": "Python 3"
    },
    "language_info": {
      "name": "python"
    }
  },
  "cells": [
    {
      "cell_type": "markdown",
      "metadata": {
        "id": "view-in-github",
        "colab_type": "text"
      },
      "source": [
        "<a href=\"https://colab.research.google.com/github/heath-barnett/chem3020/blob/main/derivatives_integrals_diffeq.ipynb\" target=\"_parent\"><img src=\"https://colab.research.google.com/assets/colab-badge.svg\" alt=\"Open In Colab\"/></a>"
      ]
    },
    {
      "cell_type": "markdown",
      "source": [
        "# Derivatives and Integrals of Functions\n",
        "\n",
        "A derivative is a fundamental concept in calculus that represents the rate of change of a function with respect to its input variable. In simpler terms, it tells us how much a function's output value changes when its input value changes slightly. The derivative of a function at a specific point gives us the instantaneous rate of change of the function at that point.\n",
        "\n",
        "Mathematically, if you have a function f(x), the derivative f'(x) (also denoted as $$\\frac{dx}{df}$$) represents the slope of the tangent line to the curve of the function at a given point x. It can be thought of as the \"steepness\" of the curve at that point.\n",
        "\n",
        "Derivative\n",
        "$$ \\frac{d}{dx}(c) = 0 $$              \n",
        "$$ \\frac{d}{dx}(x^n) = nx^{n-1} $$       \n",
        "$$ \\frac{d}{dx}(e^x) = e^x $$            \n",
        "$$ \\frac{d}{dx}(a^x) = a^x \\ln(a) $$     \n",
        "$$ \\frac{d}{dx}(\\ln(x)) = \\frac{1}{x} $$\n",
        "$$ \\frac{d}{dx}(\\sin(x)) = \\cos(x) $$   \n",
        "$$ \\frac{d}{dx}(\\cos(x)) = -\\sin(x) $$  \n",
        "$$ \\frac{d}{dx}(\\tan(x)) = \\sec^2(x) $$\n",
        "$$ \\frac{d}{dx}(\\cot(x)) = -\\csc^2(x) $$\n",
        "$$ \\frac{d}{dx}(\\sec(x)) = \\sec(x) \\tan(x) $$\n",
        "$$ \\frac{d}{dx}(\\csc(x)) = -\\csc(x) \\cot(x) $$\n",
        "$$ \\frac{d}{dx}(\\arcsin(x)) = \\frac{1}{\\sqrt{1 - x^2}} $$\n",
        "$$ \\frac{d}{dx}(\\arccos(x)) = -\\frac{1}{\\sqrt{1 - x^2}} $$\n",
        "$$ \\frac{d}{dx}(\\arctan(x)) = \\frac{1}{1 + x^2} $$\n",
        "$$ \\frac{d}{dx}(\\sinh(x)) = \\cosh(x) $$\n",
        "$$ \\frac{d}{dx}(\\cosh(x)) = \\sinh(x) $$\n",
        "$$ \\frac{d}{dx}(\\tanh(x)) = \\text{sech}^2(x) $$\n",
        "$$ \\frac{d}{dx}(\\coth(x)) = -\\text{csch}^2(x) $$\n",
        "$$ \\frac{d}{dx}(\\text{sech}(x)) = -\\text{sech}(x) \\tanh(x) $$\n",
        "$$ \\frac{d}{dx}(\\text{csch}(x)) = -\\text{csch}(x) \\coth(x) $$\n",
        "$$ \\frac{d}{dx}(\\text{arsinh}(x)) = \\frac{1}{\\sqrt{x^2 + 1}} $$\n",
        "$$ \\frac{d}{dx}(\\text{arccosh}(x)) = \\frac{1}{\\sqrt{x^2 - 1}} $$\n",
        "$$ \\frac{d}{dx}(\\text{arctanh}(x)) = \\frac{1}{1 - x^2} $$\n",
        "\n",
        "| Function                | Integral                               |\n",
        "|-------------------------|----------------------------------------|\n",
        "| $$c$$ (constant)           | $$ \\int c \\, dx = cx + C $$              |\n",
        "| $$x^n$$ (n ≠ -1)        | $$ \\int x^n \\, dx = \\frac{x^{n+1}}{n+1} + C $$ |\n",
        "| $$ \\frac{1}{x} $$ (x ≠ 0) | $$ \\int \\frac{1}{x} \\, dx = \\ln(\\lvert x \\rvert) + C $$  |\n",
        "| $$e^x$$                 | $$ \\int e^x \\, dx = e^x + C $$            |\n",
        "| $$a^x$$ (a > 0, a ≠ 1)  | $$ \\int a^x \\, dx = \\frac{a^x}{\\ln(\\lvert a \\rvert)} + C $$ |\n",
        "| $$ \\sin(x) $$           | $$ \\int \\sin(x) \\, dx = -\\cos(x) + C $$    |\n",
        "| $$ \\cos(x) $$           | $$ \\int \\cos(x) \\, dx = \\sin(x) + C $$     |\n",
        "| $$ \\tan(x) $$           | $$ \\int \\tan(x) \\, dx = -\\ln(\\lvert \\cos(x) \\rvert) + C $$ |\n",
        "| $$ \\sec^2(x) $$         | $$ \\int \\sec^2(x) \\, dx = \\tan(x) + C $$    |\n",
        "| $$ \\csc^2(x) $$         | $$ \\int \\csc^2(x) \\, dx = -\\cot(x) + C $$   |\n",
        "| $$ \\frac{1}{x^2 + 1} $$ | $$ \\int \\frac{1}{x^2 + 1} \\, dx = \\arctan(x) + C $$ |\n",
        "| $$ \\frac{1}{\\sqrt{1 - x^2}} $$ | $$ \\int \\frac{1}{\\sqrt{1 - x^2}} \\, dx = \\arcsin(x) + C $$ |\n",
        "| $$ \\frac{1}{\\sqrt{x^2 + 1}} $$ | $$ \\int \\frac{1}{\\sqrt{x^2 + 1}} \\, dx = \\text{arsinh}(x) + C $$ |\n",
        "| $$ \\frac{1}{\\sqrt{x^2 - 1}} $$ | $$ \\int \\frac{1}{\\sqrt{x^2 - 1}} \\, dx = \\text{arcosh}(x) + C $$ $$\\quad$$ (x > 1) |\n",
        "| $$ \\frac{1}{1 - x^2} $$ | $$ \\int \\frac{1}{1 - x^2} \\, dx = \\arctan(x) + C \\quad \\text{if } \\lvert x \\rvert < 1 $$ |\n"
      ],
      "metadata": {
        "id": "xVv8-fqSbmvX"
      }
    },
    {
      "cell_type": "code",
      "execution_count": null,
      "metadata": {
        "id": "6Jw4P_hKbltE"
      },
      "outputs": [],
      "source": []
    }
  ]
}