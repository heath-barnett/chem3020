{
  "nbformat": 4,
  "nbformat_minor": 0,
  "metadata": {
    "colab": {
      "provenance": [],
      "authorship_tag": "ABX9TyP7iNjVwFWj2mJkvvBlLEAT",
      "include_colab_link": true
    },
    "kernelspec": {
      "name": "python3",
      "display_name": "Python 3"
    },
    "language_info": {
      "name": "python"
    }
  },
  "cells": [
    {
      "cell_type": "markdown",
      "metadata": {
        "id": "view-in-github",
        "colab_type": "text"
      },
      "source": [
        "<a href=\"https://colab.research.google.com/github/heath-barnett/chem3020/blob/main/common_functions_plotting.ipynb\" target=\"_parent\"><img src=\"https://colab.research.google.com/assets/colab-badge.svg\" alt=\"Open In Colab\"/></a>"
      ]
    },
    {
      "cell_type": "markdown",
      "source": [
        "# Common Functions in Physical Science\n",
        "\n",
        "Functions in science can be represented *mathematically* and *graphically* (sometimes in other ways). Depending on the nature of the relationship being studied one form may be more appropriate than the other. However, all physical scientists should be familiar with both forms of the most commonly encountered functions. In the physical sciences, various functions are encountered that describe relationships between different quantities and phenomena. Some common types of functions include:\n",
        "\n",
        "- Linear Functions\n",
        "- Quadratic Functions\n",
        "- Exponential Functions\n",
        "- Logarithmic Functions\n",
        "- Trigonometric Functions\n",
        "- Power Functions\n",
        "- Power Series* (special)\n",
        "- Polynomial Functions* (special)\n",
        "- Gaussian Functions\n",
        "  \n",
        "A brief description of how these functions are used and their general the mathematical and graphical form follows.\n"
      ],
      "metadata": {
        "id": "24fPVTmqXp1S"
      }
    },
    {
      "cell_type": "code",
      "source": [
        "from sympy import symbols\n",
        "from sympy.plotting import plot\n",
        "x = symbols('x')"
      ],
      "metadata": {
        "id": "AvBbdkmRYQIl"
      },
      "execution_count": 1,
      "outputs": []
    },
    {
      "cell_type": "markdown",
      "source": [
        "# Linear Functions\n",
        "\n",
        "They are often used to describe proportional relationships, such as distance vs. time for constant velocity motion.\n",
        "A linear function has the form:\n",
        "\n",
        "$$ f(x)=mx+b $$\n",
        "\n",
        "where,\n",
        "\n",
        "- m is the slope of the line\n",
        "- b is the y-intercept (the point where the line crosses the y-axis).\n",
        "\n",
        "You have probably encountered this form of a linear function in your highschool algebra classes:\n",
        "\n",
        "$$ y=mx+b $$\n",
        "\n",
        "\n",
        " These functions have a constant rate of change and result in a straight-line graph. The graph of a linear function is always straight line."
      ],
      "metadata": {
        "id": "v9tdPCK8XySq"
      }
    },
    {
      "cell_type": "code",
      "execution_count": 5,
      "metadata": {
        "id": "5UCH0W8AR9UH",
        "outputId": "2fd49056-eb7b-4da1-ee54-53f8eca1266b",
        "colab": {
          "base_uri": "https://localhost:8080/",
          "height": 487
        }
      },
      "outputs": [
        {
          "output_type": "display_data",
          "data": {
            "text/plain": [
              "<Figure size 640x480 with 1 Axes>"
            ],
            "image/png": "[encoded data removed]"
          },
          "metadata": {}
        }
      ],
      "source": [
        "p1 = plot(2*x+2, show=True)"
      ]
    },
    {
      "cell_type": "markdown",
      "source": [
        "# Quadratic Functions\n",
        "\n",
        " These functions involve a squared term and typically result in a parabolic graph. They are encountered in projectile motion, parabolic trajectories, and various physical systems exhibiting quadratic behavior.\n",
        "\n",
        " A quadratic function has the form:\n",
        "\n",
        "$$ f(x) = ax^2 + bx + c $$\n",
        "\n",
        "where,\n",
        "\n",
        "- a, b and c are coefficients."
      ],
      "metadata": {
        "id": "FBLTmjy9Y1Z3"
      }
    },
    {
      "cell_type": "code",
      "source": [],
      "metadata": {
        "id": "2IXaO4H5YWuk"
      },
      "execution_count": null,
      "outputs": []
    },
    {
      "cell_type": "markdown",
      "source": [
        " # Exponential Functions\n",
        "\n",
        " Exponential functions involve a constant raised to a variable exponent leading to *rapid* growth or decay. These functions model phenomena like population growth, radioactive decay, and exponential charging/discharging of electrical circuits.\n",
        "\n",
        " An exponential function has the form:\n",
        "\n",
        "$$ f(x) = e^x  $$"
      ],
      "metadata": {
        "id": "Is8Y20WwY2Al"
      }
    },
    {
      "cell_type": "code",
      "source": [],
      "metadata": {
        "id": "wFAGeYv2Y2jE"
      },
      "execution_count": null,
      "outputs": []
    },
    {
      "cell_type": "markdown",
      "source": [
        "# Logarithmic Functions\n",
        "\n",
        " These functions are the *inverse* of exponential functions and describe how one quantity varies with the logarithm of another. Inverse functions \"undo\" the action of another function. In the physical sciences, they are used to describe the inverse relationship between quantities.\n",
        "They will show a fairly rapid growth/decay pattern that levels off to a stable unchanging value, given enough \"time\". They are used in various contexts, such as pH in chemistry or signal strength in telecommunications.\n",
        "\n",
        "A logarithmic function has the form:\n",
        "\n",
        "$$ f(x) = log_{b}(x)  $$\n",
        "\n",
        "where b is the base of the logathrim.\n",
        "\n",
        "A special case of a logathrim with the base e (euler's number, it's like $ \\pi $ but better) is known as the natural log (ln):\n",
        "\n",
        "$$ f(x) = log_{e}(x) = ln(x)  $$\n",
        "\n",
        "Both of these forms follow the same patterns and rules and they can be converted from one form to another.\n",
        "\n",
        "$$ ln(x) = log_{10}(e)\\cdot log_{10}(x) = 2.303\\cdot log_{10}(x)  $$\n",
        "$$ log_{10}(x) = \\frac{ln(x)}{log_{10}(e)} = \\frac{ln(x)}{2.303}  $$\n",
        "\n",
        " The natural log crops up in equations without any special effort (hence the term *natural*) so you will frequently see natural logs physical chemistry."
      ],
      "metadata": {
        "id": "WeqUNwTUY5Fd"
      }
    },
    {
      "cell_type": "code",
      "source": [],
      "metadata": {
        "id": "eWTSgQOgY3ZU"
      },
      "execution_count": null,
      "outputs": []
    },
    {
      "cell_type": "markdown",
      "source": [
        "# Trigonometric Functions\n",
        "\n",
        " Sine, cosine, and tangent functions (and their inverses) describe relationships involving angles and distances in triangles or *periodic phenomena*, like waveforms and oscillations. The primary trigonometric functions include:\n",
        "\n",
        "- Sine - sin(x)\n",
        "- Cosine - cos(x)\n",
        "- Tangent - tan(x)\n",
        "- Cosecant - csc(x)\n",
        "- Secant - sec(x)\n",
        "- Cotangent - tan(x)\n",
        "\n",
        "All trigonometric functions have their own inverse functions, in modern settings texts the \"arc-\" prefix  will indicate if the function is a trigonometric inverse. However, in sympy all inverse trig functions will simply have an \"a-\" prefix.\n",
        "\n",
        "- Arcsine - asin(x)\n",
        "- Arccosine - acos(x)\n",
        "- Arctangent - atan(x)\n",
        "- Arccosecant - acsc(x)\n",
        "- Arcsecant - asec(x)\n",
        "- Arccotangent - atan(x)\n",
        "\n",
        "*Unfortunately, history has resulted in several different naming conventions for inverse trig functions, for example, the sin(x) inverse function can be written as arcsin(x), sin$^{-1}$(x) or even Sin(x). This makes an already confusing subject for students just more confusing. Sorry!*\n",
        "\n",
        "Students are typically taught these functions by using the ratios of sides in a right triangle (opposite over hypotenuse, etc...), but their definitions can be extended to the entire real number line through the unit circle and various trigonometric identities. The triangle based definitions that you learned in your trigonometry functions are still very useful and valid. They just are as useful for the practicing physical scientist. The main reason we concern ourselves with trigonometric functions is these are best functions at describing any observations that are periodic in nature. Thus their graphical form is far more important to us most of the time."
      ],
      "metadata": {
        "id": "R6uGXRuGY5yQ"
      }
    },
    {
      "cell_type": "code",
      "source": [],
      "metadata": {
        "id": "Z-ngefHKY4YU"
      },
      "execution_count": null,
      "outputs": []
    },
    {
      "cell_type": "markdown",
      "source": [
        "# Power Functions\n",
        "\n",
        " A power function is a function with a single term that is the product of a real number, a coefficient, and a variable raised to a fixed real number. They exhibit behaviors ranging from polynomial-like to exponential-like, depending on the value of the exponent. They are very useful but under certain circumstances it can be easy to misidentify these functions from graphical inspection.\n",
        "\n",
        "A power function has the form:\n",
        "\n",
        "$$ f(x) = a_n x^n  $$\n",
        "\n",
        "where $a_n$ and n are real numbers. The value of the n exponent being evern or odd has a large effect on the graphical representations of power functions."
      ],
      "metadata": {
        "id": "4uRuuroLY4Ek"
      }
    },
    {
      "cell_type": "code",
      "source": [],
      "metadata": {
        "id": "3GAwayB2aWR8"
      },
      "execution_count": null,
      "outputs": []
    },
    {
      "cell_type": "markdown",
      "source": [
        "# Power Series\n",
        "\n",
        "A power series is an infinite series of power functions that represents a function as a sum of terms involving powers of a variable. It's a way to express a function as an infinite sum of terms that look like $a_nx^n$, where the coefficients can vary. The general form of a power series is:\n",
        "$$ f(x) = \\sum_{n=0}^{\\infty} a_n x^n  $$\n",
        "\n",
        "Power series can have graphs of nearly every possible shape on the terms present in the function. Without further specifying the specific function it hard to provide illustrative examples."
      ],
      "metadata": {
        "id": "Q9ujIgfVY3Bt"
      }
    },
    {
      "cell_type": "code",
      "source": [],
      "metadata": {
        "id": "V_XSwCBvagj_"
      },
      "execution_count": null,
      "outputs": []
    },
    {
      "cell_type": "markdown",
      "source": [
        "# Polynomial Functions\n",
        "\n",
        "A polynomial function is a mathematical function that is defined as a sum of terms, each of which is a constant multiplied by a variable raised to a non-negative integer exponent. These functions are also reffered to as power series in some areas. In other words, a polynomial function is a combination of powers of a variable, and the terms are added or subtracted to create the overall function.\n",
        "\n",
        "The general form of a polynomial function is:\n",
        "\n",
        "$$ f(x) = a_nx^n + a_{n-1}x^{n-1} + ... + a_2x^2 + a_1x + a_0 $$\n",
        "\n",
        "Where:\n",
        "\n",
        "- f(x) represents the polynomial function.\n",
        "- x is the variable.\n",
        "- n is a non-negative integer representing the highest degree of the polynomial.\n",
        "- $a_n$, $a_{n-1}$ , ..., $a_2$, $a_1$, $a_0$ are coefficients, with $a_n \\not ={} 0$, that multiply the  corresponding powers of x.\n",
        "\n",
        "Polynomial functions can have various degrees. We have already discussed two of them: the linear function and quadratic function. For example:\n",
        "\n",
        "- A linear polynomial has a degree of 1: $f(x) = ax + b$.\n",
        "- A quadratic polynomial has a degree of 2: $f(x) = ax^2 + bx + c$.\n",
        "- A cubic polynomial has a degree of 3: $f(x) = ax^3 + bx^2 + cx + d$.\n",
        "\n",
        "And so on, with higher degrees corresponding to higher powers of x.\n",
        "\n",
        "Polynomial functions are essential in various mathematical and scientific contexts. They are used to approximate more complex functions, model data, solve equations, and describe a wide range of phenomena.\n",
        "\n",
        "Polynomial functions can have graphs of nearly every possible shape depending on the number of terms in the function. Without further specifying the specific polynomial function it hard to provide illustrative examples."
      ],
      "metadata": {
        "id": "wyyoKLQYag8n"
      }
    },
    {
      "cell_type": "code",
      "source": [],
      "metadata": {
        "id": "b_y9iMwXakTu"
      },
      "execution_count": null,
      "outputs": []
    },
    {
      "cell_type": "markdown",
      "source": [
        "# Differences Between Polynomial Functions and Power Series\n",
        "\n",
        "Polynomial functions and power series are almost identical and there is no need to distinguish between the two most of the time. However, they do have a few differences:\n",
        "\n",
        "1. **Degree vs. Infinite Terms:** Polynomials have a finite number of terms, while power series have an infinite number of terms.\n",
        "\n",
        "2. **Function Representation:** Polynomials represent functions using a finite number of terms, whereas power series can represent a broader range of functions, including non-polynomial functions, such as trig functions.\n",
        "\n",
        "3. **Radius of Convergence:** Power series have a concept called the \"radius of convergence,\" which determines the interval of x values for which the series converges. This concept doesn't apply to polynomials."
      ],
      "metadata": {
        "id": "9x9VBKFiante"
      }
    },
    {
      "cell_type": "markdown",
      "source": [
        "# Gaussian (Normal) Functions\n",
        "\n",
        " This is a common (very, very common) function that describes the distribution of data points around a mean value. It's encountered in various statistical and physical contexts.\n",
        "\n",
        "A gaussian function has the general form:\n",
        "\n",
        "$$ f(x) = a\\cdot e^{-x^2}  $$\n",
        "\n",
        "where a is a coefficient."
      ],
      "metadata": {
        "id": "HSE4COeea1pH"
      }
    },
    {
      "cell_type": "code",
      "source": [],
      "metadata": {
        "id": "7gBe1cGga5VM"
      },
      "execution_count": null,
      "outputs": []
    },
    {
      "cell_type": "markdown",
      "source": [
        "# Special Note on Gaussian Functions\n",
        "\n",
        "Gaussian functions are often used to represent the probability density function of a normally distributed random variable, and they will take an slightly different form (with more variables and constants) when encountered in this context:\n",
        "\n",
        "$$ f(x) = \\frac{1}{\\sigma \\sqrt{2\\pi}}\\cdot exp{\\left(-\\frac{1}{2}\\frac{(x-\\mu)^2}{\\sigma^2}\\right)}  $$\n",
        "\n",
        "where $\\sigma$ is the standard deviation, $\\mu$ is the expected value (average typically). The exp term simply represents Euler's number raised to everything in the parentheses but with large exponents the font becomes hard to read. Don't worry too much about this form unless you are in statistic's this semester.\n"
      ],
      "metadata": {
        "id": "Tzt0VzL8a8TF"
      }
    },
    {
      "cell_type": "markdown",
      "source": [
        "# Can Functions Have More Than One Type?\n",
        "\n",
        "Yes"
      ],
      "metadata": {
        "id": "rLetEZz0bCqi"
      }
    }
  ]
}