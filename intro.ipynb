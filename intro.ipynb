{
  "nbformat": 4,
  "nbformat_minor": 0,
  "metadata": {
    "colab": {
      "provenance": [],
      "authorship_tag": "ABX9TyOhG3l0pQIE0bChAGFvLWY5",
      "include_colab_link": true
    },
    "kernelspec": {
      "name": "python3",
      "display_name": "Python 3"
    },
    "language_info": {
      "name": "python"
    }
  },
  "cells": [
    {
      "cell_type": "markdown",
      "metadata": {
        "id": "view-in-github",
        "colab_type": "text"
      },
      "source": [
        "<a href=\"https://colab.research.google.com/github/heath-barnett/chem3020/blob/main/intro.ipynb\" target=\"_parent\"><img src=\"https://colab.research.google.com/assets/colab-badge.svg\" alt=\"Open In Colab\"/></a>"
      ]
    },
    {
      "cell_type": "markdown",
      "source": [
        "#Introduction to SymPy\n",
        "Sympy is a Python library for symbolic mathematics. It will be your new best friend after you learn how to use it.\n",
        "\n",
        "Execute the following code block by selecting and pressing `shift` + `enter`. You can also just click the little play icon in the upper left corner of the block. This block will load everything we need to work with sympy for the rest of the document."
      ],
      "metadata": {
        "id": "tPTtxzgclfIk"
      }
    },
    {
      "cell_type": "code",
      "source": [
        "from sympy import *\n",
        "init_printing()"
      ],
      "metadata": {
        "id": "t0A2ZeHmaFfG"
      },
      "execution_count": null,
      "outputs": []
    },
    {
      "cell_type": "markdown",
      "source": [
        "# Sympy Gotchas\n",
        "There are some things that will seem odd at first when using sympy. For the most part, all oddities are due to inherient limitions in the python language. You will get used to them. Briefly:\n",
        "\n",
        "1. Multiplication is explicit: \"three times x\" must be written as `3*x`, not 3x or 3xx.\n",
        "2. Raising a number or variable to a power is done with `**` not `^`. So \"three squared\" would be written as `3**2`\n",
        "3. Equal signs should be avoided in expressions (more on this later)."
      ],
      "metadata": {
        "id": "lLhExW9Tmnna"
      }
    },
    {
      "cell_type": "markdown",
      "source": [
        "## Symbolic Representations of Variables\n",
        "\n",
        "In SymPy we need to create symbols for the variables we want to work with. We can create a new symbol using the `Symbol` class:"
      ],
      "metadata": {
        "id": "YSYjSAw8Z3ZX"
      }
    },
    {
      "cell_type": "code",
      "execution_count": null,
      "metadata": {
        "id": "Hbf0gcg4QS4_",
        "colab": {
          "base_uri": "https://localhost:8080/",
          "height": 58
        },
        "outputId": "a4ec7960-2117-4ce5-d71d-3454e135b017"
      },
      "outputs": [
        {
          "output_type": "execute_result",
          "data": {
            "text/plain": [
              "       2         \n",
              "(x + π)          \n",
              "──────── - cos(x)\n",
              "   3             \n",
              "3⋅x  + x         "
            ],
            "text/latex": "$\\displaystyle \\frac{\\left(x + \\pi\\right)^{2}}{3 x^{3} + x} - \\cos{\\left(x \\right)}$"
          },
          "metadata": {},
          "execution_count": 69
        }
      ],
      "source": [
        "x = Symbol('x')\n",
        "(pi + x)**2/(x+3*x**3)-cos(x)"
      ]
    },
    {
      "cell_type": "markdown",
      "source": [
        "If you want to creat more than one variable at time"
      ],
      "metadata": {
        "id": "3fT3xQfcpYJV"
      }
    },
    {
      "cell_type": "code",
      "source": [
        "a, b, x, y, z = symbols('a, b, x, y, z')"
      ],
      "metadata": {
        "id": "hBFFTqt8pcXZ"
      },
      "execution_count": null,
      "outputs": []
    },
    {
      "cell_type": "markdown",
      "source": [
        "From now on anytime we reference M, m, n, a.... the computer will assume that were are talking a symbolic variable (as opposed to a number, string, boolen , function, etc.)."
      ],
      "metadata": {
        "id": "PVgVY_wyppD0"
      }
    },
    {
      "cell_type": "markdown",
      "source": [
        "## Numerical Evaluation\n",
        "\n",
        "SymPy uses a library for arbitrary precision as numerical backend, and has predefined SymPy expressions for a number of mathematical constants, such as: `pi`, `E`, `oo` for $\\pi$, $e$ and $\\infty$.\n",
        "\n",
        "To evaluate an expression numerically we can use the `evalf` function (or `N`). It takes an argument `n` which specifies the number of significant digits."
      ],
      "metadata": {
        "id": "8FbSX_64aeN_"
      }
    },
    {
      "cell_type": "code",
      "source": [
        "E.evalf(n=5)"
      ],
      "metadata": {
        "colab": {
          "base_uri": "https://localhost:8080/",
          "height": 37
        },
        "id": "42y-WMv8n-mn",
        "outputId": "2a73f8a1-dc9d-4626-e1e7-5c47c0508af2"
      },
      "execution_count": null,
      "outputs": [
        {
          "output_type": "execute_result",
          "data": {
            "text/plain": [
              "2.7183"
            ],
            "text/latex": "$\\displaystyle 2.7183$"
          },
          "metadata": {},
          "execution_count": 73
        }
      ]
    },
    {
      "cell_type": "code",
      "source": [
        "pi.evalf(n=5)"
      ],
      "metadata": {
        "colab": {
          "base_uri": "https://localhost:8080/",
          "height": 37
        },
        "id": "up6yFJPen8R3",
        "outputId": "0b4c3e65-6243-4069-8c91-6d2cbaecfa05"
      },
      "execution_count": null,
      "outputs": [
        {
          "output_type": "execute_result",
          "data": {
            "text/plain": [
              "3.1416"
            ],
            "text/latex": "$\\displaystyle 3.1416$"
          },
          "metadata": {},
          "execution_count": 70
        }
      ]
    },
    {
      "cell_type": "code",
      "source": [
        "pi.evalf(n=50)"
      ],
      "metadata": {
        "colab": {
          "base_uri": "https://localhost:8080/",
          "height": 37
        },
        "id": "sIiKZM60bSCu",
        "outputId": "fb78a8d0-b23b-4fa1-884f-c6dd65f5b6f7"
      },
      "execution_count": null,
      "outputs": [
        {
          "output_type": "execute_result",
          "data": {
            "text/plain": [
              "3.1415926535897932384626433832795028841971693993751"
            ],
            "text/latex": "$\\displaystyle 3.1415926535897932384626433832795028841971693993751$"
          },
          "metadata": {},
          "execution_count": 3
        }
      ]
    },
    {
      "cell_type": "code",
      "source": [
        "N(pi,50)"
      ],
      "metadata": {
        "colab": {
          "base_uri": "https://localhost:8080/",
          "height": 37
        },
        "id": "oPL4wAnpojN3",
        "outputId": "6c3425da-f9fd-4ae2-969e-f8688d302166"
      },
      "execution_count": null,
      "outputs": [
        {
          "output_type": "execute_result",
          "data": {
            "text/plain": [
              "3.1415926535897932384626433832795028841971693993751"
            ],
            "text/latex": "$\\displaystyle 3.1415926535897932384626433832795028841971693993751$"
          },
          "metadata": {},
          "execution_count": 74
        }
      ]
    },
    {
      "cell_type": "markdown",
      "source": [
        "# Functions\n",
        "\n",
        "A function is a rule or relationship that represents how one quantity depends on another. Functions are widely used across all STEM fields, as such there can be some confusion for students when starting out. Briefly we will discuss the formal mathematical definition of a function but then primarily focus on how we use them in the physical sciences.\n",
        "\n",
        "## Functions (Physical Science Perspective)\n",
        "\n",
        "The formal mathematical definition of a function is important, but it isn't terribly useful for for a lot of people in the physical sciences. In science, a function is a concept similar to its mathematical definition, although it is typically used in a broader context. Functions can be used to describe relationships between *variables*, *processes*, or *systems*.\n",
        "\n",
        "In science, a function typically refers to a specific relationship or rule that governs how one variable or set of variables depends on another variable or set of variables.In this context, a function describes how changes in one quantity lead to changes in another quantity. It can represent:\n",
        "\n",
        "- cause-and-effect relationships\n",
        "- dependencies\n",
        "- patterns\n",
        "- fundamental rules of system\n",
        "- properties of a system\n",
        "\n",
        "In sympy to create a simple function of one varible use `Function(symbolic variable)`."
      ],
      "metadata": {
        "id": "tOMA40mHQkjm"
      }
    },
    {
      "cell_type": "code",
      "source": [
        "f = Function('f')(x)\n",
        "g = Function('g')(x)\n",
        "display(f)\n",
        "display(g)"
      ],
      "metadata": {
        "colab": {
          "base_uri": "https://localhost:8080/",
          "height": 61
        },
        "id": "rXPeaIdHbtV-",
        "outputId": "24bd78b4-c55b-418b-ab1b-4b6c456456b2"
      },
      "execution_count": null,
      "outputs": [
        {
          "output_type": "display_data",
          "data": {
            "text/plain": [
              "f(x)"
            ],
            "text/latex": "$\\displaystyle f{\\left(x \\right)}$"
          },
          "metadata": {}
        },
        {
          "output_type": "display_data",
          "data": {
            "text/plain": [
              "g(x)"
            ],
            "text/latex": "$\\displaystyle g{\\left(x \\right)}$"
          },
          "metadata": {}
        }
      ]
    },
    {
      "cell_type": "markdown",
      "source": [
        "The two functions we created: f(x) and g(x) aren't very useful right now since they aren't associted with any type of expressions. We can fix that though."
      ],
      "metadata": {
        "id": "yBfYx-CLrey6"
      }
    },
    {
      "cell_type": "code",
      "source": [
        "f = x**2\n",
        "display(f)\n",
        "g = (x+2)/3\n",
        "display(g)"
      ],
      "metadata": {
        "colab": {
          "base_uri": "https://localhost:8080/",
          "height": 73
        },
        "id": "O265gEfMrcJC",
        "outputId": "0b637c7e-d7dc-4b57-c54f-7fe18d005bca"
      },
      "execution_count": null,
      "outputs": [
        {
          "output_type": "display_data",
          "data": {
            "text/plain": [
              " 2\n",
              "x "
            ],
            "text/latex": "$\\displaystyle x^{2}$"
          },
          "metadata": {}
        },
        {
          "output_type": "display_data",
          "data": {
            "text/plain": [
              "x   2\n",
              "─ + ─\n",
              "3   3"
            ],
            "text/latex": "$\\displaystyle \\frac{x}{3} + \\frac{2}{3}$"
          },
          "metadata": {}
        }
      ]
    },
    {
      "cell_type": "markdown",
      "source": [
        "When we numerically evaluate algebraic expressions we often want to substitute a symbol with a numerical value. In SymPy we do that using the `subs` function:"
      ],
      "metadata": {
        "id": "A2idxfKaeT5s"
      }
    },
    {
      "cell_type": "code",
      "source": [
        "f.subs(x,5)"
      ],
      "metadata": {
        "colab": {
          "base_uri": "https://localhost:8080/",
          "height": 37
        },
        "id": "9Wq85MSicx_v",
        "outputId": "2a4e170b-4946-4993-b527-5832fe15d8cd"
      },
      "execution_count": null,
      "outputs": [
        {
          "output_type": "execute_result",
          "data": {
            "text/plain": [
              "25"
            ],
            "text/latex": "$\\displaystyle 25$"
          },
          "metadata": {},
          "execution_count": 88
        }
      ]
    },
    {
      "cell_type": "code",
      "source": [
        "g.subs(x,98)"
      ],
      "metadata": {
        "colab": {
          "base_uri": "https://localhost:8080/",
          "height": 51
        },
        "id": "zShyndlNc8Cf",
        "outputId": "b7306638-99bf-4195-b883-af833f282054"
      },
      "execution_count": null,
      "outputs": [
        {
          "output_type": "execute_result",
          "data": {
            "text/plain": [
              "100/3"
            ],
            "text/latex": "$\\displaystyle \\frac{100}{3}$"
          },
          "metadata": {},
          "execution_count": 90
        }
      ]
    },
    {
      "cell_type": "markdown",
      "source": [
        "You might want the numerical answer instead of a fraction. This can be achieved with `N` or `.evalf`."
      ],
      "metadata": {
        "id": "DysbGEtDfT2i"
      }
    },
    {
      "cell_type": "code",
      "source": [
        "N(g.subs(x,98),4)"
      ],
      "metadata": {
        "colab": {
          "base_uri": "https://localhost:8080/",
          "height": 37
        },
        "id": "LiF2I8jJdQYX",
        "outputId": "140d453d-8b7f-48bc-d689-1edf0b6d83b7"
      },
      "execution_count": null,
      "outputs": [
        {
          "output_type": "execute_result",
          "data": {
            "text/plain": [
              "33.33"
            ],
            "text/latex": "$\\displaystyle 33.33$"
          },
          "metadata": {},
          "execution_count": 94
        }
      ]
    },
    {
      "cell_type": "code",
      "source": [
        "g.subs(x,98).evalf(n=4)"
      ],
      "metadata": {
        "colab": {
          "base_uri": "https://localhost:8080/",
          "height": 37
        },
        "id": "IhCE-rNZfnZo",
        "outputId": "91b44831-ab3c-41d1-af73-9623d9bdbdf4"
      },
      "execution_count": null,
      "outputs": [
        {
          "output_type": "execute_result",
          "data": {
            "text/plain": [
              "33.33"
            ],
            "text/latex": "$\\displaystyle 33.33$"
          },
          "metadata": {},
          "execution_count": 97
        }
      ]
    },
    {
      "cell_type": "markdown",
      "source": [
        "The `subs` function can of course also be used to substitute Symbols and expressions:"
      ],
      "metadata": {
        "id": "MF6E907UeOkM"
      }
    },
    {
      "cell_type": "code",
      "source": [
        "f.subs(x,g)"
      ],
      "metadata": {
        "colab": {
          "base_uri": "https://localhost:8080/",
          "height": 61
        },
        "id": "SZ9lvrmodUA2",
        "outputId": "d608242a-8127-4350-be6a-39e3f64af0af"
      },
      "execution_count": null,
      "outputs": [
        {
          "output_type": "execute_result",
          "data": {
            "text/plain": [
              "       2\n",
              "⎛x   2⎞ \n",
              "⎜─ + ─⎟ \n",
              "⎝3   3⎠ "
            ],
            "text/latex": "$\\displaystyle \\left(\\frac{x}{3} + \\frac{2}{3}\\right)^{2}$"
          },
          "metadata": {},
          "execution_count": 99
        }
      ]
    },
    {
      "cell_type": "markdown",
      "source": [
        "We can evaluate multiple substitutions in algebraic expressions by calling the subs function again:"
      ],
      "metadata": {
        "id": "neVWGB1Pez7U"
      }
    },
    {
      "cell_type": "code",
      "source": [
        "f.subs(x,g).subs(x,2)"
      ],
      "metadata": {
        "colab": {
          "base_uri": "https://localhost:8080/",
          "height": 51
        },
        "id": "HeyRrAJ_dU--",
        "outputId": "69df5aa1-13fa-413d-ed43-f7258cd42f8a"
      },
      "execution_count": null,
      "outputs": [
        {
          "output_type": "execute_result",
          "data": {
            "text/plain": [
              "16/9"
            ],
            "text/latex": "$\\displaystyle \\frac{16}{9}$"
          },
          "metadata": {},
          "execution_count": 100
        }
      ]
    },
    {
      "cell_type": "markdown",
      "source": [
        "## Algebraic Manipulations\n",
        "\n",
        "One of the main uses of an CAS (computer algebra systems) is to perform algebraic manipulations of expressions. For example, we might want to expand a product, factor an expression, or simplify an expression. The functions for doing these basic operations in SymPy are demonstrated in this section.\n",
        "\n",
        "### Expand and Factor\n",
        "Simple and common tools, these can help you look at an expression from a new perspective."
      ],
      "metadata": {
        "id": "miUHFZKdf1vs"
      }
    },
    {
      "cell_type": "code",
      "source": [
        "example = (x+1)*(x+2)*(x+3)\n",
        "display(example)"
      ],
      "metadata": {
        "colab": {
          "base_uri": "https://localhost:8080/",
          "height": 39
        },
        "id": "ofx4LCzWew8u",
        "outputId": "3a0eb0ac-c59d-4063-c91d-69cef29e31de"
      },
      "execution_count": null,
      "outputs": [
        {
          "output_type": "display_data",
          "data": {
            "text/plain": [
              "(x + 1)⋅(x + 2)⋅(x + 3)"
            ],
            "text/latex": "$\\displaystyle \\left(x + 1\\right) \\left(x + 2\\right) \\left(x + 3\\right)$"
          },
          "metadata": {}
        }
      ]
    },
    {
      "cell_type": "code",
      "source": [
        "display(expand(example))"
      ],
      "metadata": {
        "colab": {
          "base_uri": "https://localhost:8080/",
          "height": 39
        },
        "id": "GxDoiBditaOX",
        "outputId": "97437cf9-2731-4136-c234-3655a978405b"
      },
      "execution_count": null,
      "outputs": [
        {
          "output_type": "display_data",
          "data": {
            "text/plain": [
              " 3      2           \n",
              "x  + 6⋅x  + 11⋅x + 6"
            ],
            "text/latex": "$\\displaystyle x^{3} + 6 x^{2} + 11 x + 6$"
          },
          "metadata": {}
        }
      ]
    },
    {
      "cell_type": "markdown",
      "source": [
        "The `expand` function takes a number of keywords arguments which we can tell the functions what kind of expansions we want to have performed. For example, to expand trigonometric expressions, use the `trig=True` keyword argument:"
      ],
      "metadata": {
        "id": "s-ZiNnuvgo9z"
      }
    },
    {
      "cell_type": "code",
      "source": [
        "expand(sin(a+b), trig=True)"
      ],
      "metadata": {
        "colab": {
          "base_uri": "https://localhost:8080/",
          "height": 39
        },
        "id": "4F7ilSjlgjAN",
        "outputId": "c00a309d-f7f7-4cb1-f75c-016d312415ff"
      },
      "execution_count": null,
      "outputs": [
        {
          "output_type": "execute_result",
          "data": {
            "text/plain": [
              "sin(a)⋅cos(b) + sin(b)⋅cos(a)"
            ],
            "text/latex": "$\\displaystyle \\sin{\\left(a \\right)} \\cos{\\left(b \\right)} + \\sin{\\left(b \\right)} \\cos{\\left(a \\right)}$"
          },
          "metadata": {},
          "execution_count": 33
        }
      ]
    },
    {
      "cell_type": "markdown",
      "source": [
        "The opposite of product expansion is factoring. To factor an expression in SymPy use the `factor` function:"
      ],
      "metadata": {
        "id": "MV-P2sKwhJEk"
      }
    },
    {
      "cell_type": "code",
      "source": [
        "example2 = x**3 + 6 * x**2 + 11*x + 6\n",
        "display(example2)"
      ],
      "metadata": {
        "colab": {
          "base_uri": "https://localhost:8080/",
          "height": 39
        },
        "id": "dpR1H8Rng-iM",
        "outputId": "bce6a1da-4eb1-4454-c6a0-50a028bd8472"
      },
      "execution_count": null,
      "outputs": [
        {
          "output_type": "display_data",
          "data": {
            "text/plain": [
              " 3      2           \n",
              "x  + 6⋅x  + 11⋅x + 6"
            ],
            "text/latex": "$\\displaystyle x^{3} + 6 x^{2} + 11 x + 6$"
          },
          "metadata": {}
        }
      ]
    },
    {
      "cell_type": "code",
      "source": [
        "factor(example2)"
      ],
      "metadata": {
        "colab": {
          "base_uri": "https://localhost:8080/",
          "height": 39
        },
        "id": "zDF6UjjClKKV",
        "outputId": "9fa3e075-ae3f-4aa2-9d79-79f9d64ef2e7"
      },
      "execution_count": null,
      "outputs": [
        {
          "output_type": "execute_result",
          "data": {
            "text/plain": [
              "(x + 1)⋅(x + 2)⋅(x + 3)"
            ],
            "text/latex": "$\\displaystyle \\left(x + 1\\right) \\left(x + 2\\right) \\left(x + 3\\right)$"
          },
          "metadata": {},
          "execution_count": 64
        }
      ]
    },
    {
      "cell_type": "markdown",
      "source": [
        "### Simplify\n",
        "\n",
        "The `simplify` tries to simplify an expression into a nice looking expression, using various techniques. More specific alternatives to the `simplify` functions also exists: `trigsimp`, `powsimp`, `logcombine`, etc. but always start with simplify first. Simplify usually combines fractions but does not factor.\n"
      ],
      "metadata": {
        "id": "yL7tPfrwiFkw"
      }
    },
    {
      "cell_type": "code",
      "source": [
        "# simplify (sometimes) expands a product\n",
        "example3 = (x + x**2)/(x*sin(y)**2 + x*cos(y)**2)\n",
        "display(example3)"
      ],
      "metadata": {
        "colab": {
          "base_uri": "https://localhost:8080/",
          "height": 71
        },
        "id": "gUUVRMJ8hblb",
        "outputId": "92c68fbd-8b43-4138-bcf9-0cfac68e6d2a"
      },
      "execution_count": null,
      "outputs": [
        {
          "output_type": "display_data",
          "data": {
            "text/plain": [
              "                2                  \n",
              "               x  + x              \n",
              "───────────────────────────────────\n",
              "     2⎛       2⎞        2⎛       2⎞\n",
              "x⋅sin ⎝(x + π) ⎠ + x⋅cos ⎝(x + π) ⎠"
            ],
            "text/latex": "$\\displaystyle \\frac{x^{2} + x}{x \\sin^{2}{\\left(\\left(x + \\pi\\right)^{2} \\right)} + x \\cos^{2}{\\left(\\left(x + \\pi\\right)^{2} \\right)}}$"
          },
          "metadata": {}
        }
      ]
    },
    {
      "cell_type": "code",
      "source": [
        "simplify(example3)"
      ],
      "metadata": {
        "colab": {
          "base_uri": "https://localhost:8080/",
          "height": 39
        },
        "id": "XRKht4tPlQqc",
        "outputId": "5198c0d2-ad90-423d-ce8d-edae5c0e8535"
      },
      "execution_count": null,
      "outputs": [
        {
          "output_type": "execute_result",
          "data": {
            "text/plain": [
              "x + 1"
            ],
            "text/latex": "$\\displaystyle x + 1$"
          },
          "metadata": {},
          "execution_count": 66
        }
      ]
    },
    {
      "cell_type": "markdown",
      "source": [
        "Simplify will use trigonometric identities if appropriate."
      ],
      "metadata": {
        "id": "WM6elG5Wk1Qr"
      }
    },
    {
      "cell_type": "code",
      "source": [
        "simplify(cos(x)/sin(x))"
      ],
      "metadata": {
        "colab": {
          "base_uri": "https://localhost:8080/",
          "height": 55
        },
        "id": "Jkqj1ockiRrI",
        "outputId": "f2bdb9b6-990a-4019-89b0-acb5bd1ee570"
      },
      "execution_count": null,
      "outputs": [
        {
          "output_type": "execute_result",
          "data": {
            "text/plain": [
              "  1   \n",
              "──────\n",
              "tan(x)"
            ],
            "text/latex": "$\\displaystyle \\frac{1}{\\tan{\\left(x \\right)}}$"
          },
          "metadata": {},
          "execution_count": 47
        }
      ]
    },
    {
      "cell_type": "markdown",
      "source": [
        "### Apart and Together\n",
        "\n",
        "To manipulate symbolic expressions of fractions, we can use the `apart` and\n",
        "`together` functions:"
      ],
      "metadata": {
        "id": "LTCKftMIkMKt"
      }
    },
    {
      "cell_type": "code",
      "source": [
        "f1 = 1/((a+1)*(a+2))\n",
        "display(f1)"
      ],
      "metadata": {
        "colab": {
          "base_uri": "https://localhost:8080/",
          "height": 55
        },
        "id": "8pCdZJ7LiYXx",
        "outputId": "43e95f5f-a18c-49ae-9fb8-89fcd4f73fe1"
      },
      "execution_count": null,
      "outputs": [
        {
          "output_type": "display_data",
          "data": {
            "text/plain": [
              "       1       \n",
              "───────────────\n",
              "(a + 1)⋅(a + 2)"
            ],
            "text/latex": "$\\displaystyle \\frac{1}{\\left(a + 1\\right) \\left(a + 2\\right)}$"
          },
          "metadata": {}
        }
      ]
    },
    {
      "cell_type": "code",
      "source": [
        "apart(f1)"
      ],
      "metadata": {
        "colab": {
          "base_uri": "https://localhost:8080/",
          "height": 52
        },
        "id": "Xsz7hx1wib-R",
        "outputId": "a1310c25-8a58-4b9a-f12e-9f903594cb00"
      },
      "execution_count": null,
      "outputs": [
        {
          "output_type": "execute_result",
          "data": {
            "text/plain": [
              "    1       1  \n",
              "- ───── + ─────\n",
              "  a + 2   a + 1"
            ],
            "text/latex": "$\\displaystyle - \\frac{1}{a + 2} + \\frac{1}{a + 1}$"
          },
          "metadata": {},
          "execution_count": 58
        }
      ]
    },
    {
      "cell_type": "code",
      "source": [
        "f2 = 1/(a+2) + 1/(a+3)\n",
        "display(f2)"
      ],
      "metadata": {
        "colab": {
          "base_uri": "https://localhost:8080/",
          "height": 52
        },
        "id": "t_zGYrjOkYxV",
        "outputId": "ccbaa7bf-292b-406f-fcf5-29fdfa8ef308"
      },
      "execution_count": null,
      "outputs": [
        {
          "output_type": "display_data",
          "data": {
            "text/plain": [
              "  1       1  \n",
              "───── + ─────\n",
              "a + 3   a + 2"
            ],
            "text/latex": "$\\displaystyle \\frac{1}{a + 3} + \\frac{1}{a + 2}$"
          },
          "metadata": {}
        }
      ]
    },
    {
      "cell_type": "code",
      "source": [
        "together(f2)"
      ],
      "metadata": {
        "colab": {
          "base_uri": "https://localhost:8080/",
          "height": 55
        },
        "id": "C_UimmSFkf_2",
        "outputId": "7a61b0a3-fece-4317-ee94-825a0de990c1"
      },
      "execution_count": null,
      "outputs": [
        {
          "output_type": "execute_result",
          "data": {
            "text/plain": [
              "    2⋅a + 5    \n",
              "───────────────\n",
              "(a + 2)⋅(a + 3)"
            ],
            "text/latex": "$\\displaystyle \\frac{2 a + 5}{\\left(a + 2\\right) \\left(a + 3\\right)}$"
          },
          "metadata": {},
          "execution_count": 61
        }
      ]
    },
    {
      "cell_type": "markdown",
      "source": [
        "#Solving Equations Algebraically\n",
        "The Python package SymPy can symbolically solve equations, differential equations, linear equations, nonlinear equations, matrix problems, inequalities, Diophantine equations, and evaluate integrals.\n",
        "\n",
        "But lets start with some easy stuff first.\n",
        "$$y = 2x -3$$\n"
      ],
      "metadata": {
        "id": "jQPf5KPwtqPN"
      }
    },
    {
      "cell_type": "code",
      "source": [
        "y = 2*x - 3\n",
        "display(y)"
      ],
      "metadata": {
        "colab": {
          "base_uri": "https://localhost:8080/",
          "height": 39
        },
        "id": "VP_ItgUzuL6v",
        "outputId": "e8d6e970-5977-461a-a9e2-67e1156d266a"
      },
      "execution_count": null,
      "outputs": [
        {
          "output_type": "display_data",
          "data": {
            "text/plain": [
              "2⋅x - 3"
            ],
            "text/latex": "$\\displaystyle 2 x - 3$"
          },
          "metadata": {}
        }
      ]
    },
    {
      "cell_type": "markdown",
      "source": [
        "Solve for x, when y = 0. We will do this with the `solve` function. The first argument is the expression you want to solve, the second argument is the variable that you want to solve for."
      ],
      "metadata": {
        "id": "MVk54lqru6fz"
      }
    },
    {
      "cell_type": "code",
      "source": [
        "solve(y,x)"
      ],
      "metadata": {
        "colab": {
          "base_uri": "https://localhost:8080/",
          "height": 58
        },
        "id": "kVT_1dXMufT-",
        "outputId": "7ffcfc39-576a-42e9-923e-50e1b1597360"
      },
      "execution_count": null,
      "outputs": [
        {
          "output_type": "execute_result",
          "data": {
            "text/plain": [
              "[3/2]"
            ],
            "text/latex": "$\\displaystyle \\left[ \\frac{3}{2}\\right]$"
          },
          "metadata": {},
          "execution_count": 104
        }
      ]
    },
    {
      "cell_type": "markdown",
      "source": [
        "You must make your equation into an expression that equals zero. This sounds like a pain at first until you realize that sympy can rearrange your equations for you. Again,\n",
        "$$y = 2x -3$$\n",
        "but this time we want to solve for x when y = -5. We could quickly do this substition in our head and get\n",
        "$$-5 = 2x-3$$\n",
        "$$0 = 2x+2$$\n",
        "$$-2=2x$$\n",
        "$$-1=x$$\n",
        "but why make brain think, use the function `Eq` to set two expressions equal to each other then use subs to substitute -5 into the y value."
      ],
      "metadata": {
        "id": "u7axRIeCwRpM"
      }
    },
    {
      "cell_type": "code",
      "source": [
        "display(Eq(y,2*x-3))\n",
        "display(Eq(y,2*x-3).subs(y,-5))\n",
        "solve(Eq(y,2*x-3).subs(y,-5),x)"
      ],
      "metadata": {
        "colab": {
          "base_uri": "https://localhost:8080/",
          "height": 81
        },
        "id": "DhvFbeKNuzmo",
        "outputId": "2888da4e-98b9-4276-f33e-e1e94b02d7e7"
      },
      "execution_count": null,
      "outputs": [
        {
          "output_type": "display_data",
          "data": {
            "text/plain": [
              "y = 2⋅x - 3"
            ],
            "text/latex": "$\\displaystyle y = 2 x - 3$"
          },
          "metadata": {}
        },
        {
          "output_type": "display_data",
          "data": {
            "text/plain": [
              "-5 = 2⋅x - 3"
            ],
            "text/latex": "$\\displaystyle -5 = 2 x - 3$"
          },
          "metadata": {}
        },
        {
          "output_type": "execute_result",
          "data": {
            "text/plain": [
              "[-1]"
            ],
            "text/latex": "$\\displaystyle \\left[ -1\\right]$"
          },
          "metadata": {},
          "execution_count": 121
        }
      ]
    },
    {
      "cell_type": "markdown",
      "source": [
        "In the previous cell you only actually needed the last line."
      ],
      "metadata": {
        "id": "RbuaX3Z-0J1j"
      }
    },
    {
      "cell_type": "markdown",
      "source": [
        "# Solve also works well for purely alegrabic solutions\n",
        "\n"
      ],
      "metadata": {
        "id": "LhGgrbtE01Bh"
      }
    },
    {
      "cell_type": "code",
      "source": [
        "P, V, n, R, T = symbols('P, V, n, R, T')\n",
        "ideal = Eq(P*V,n*R*T)\n",
        "display(ideal)\n",
        "display(solve(ideal, V))\n",
        "solve(ideal.subs([(R,0.08206),(P,1.0),(T,298.15),(n,1.0)]),V)"
      ],
      "metadata": {
        "colab": {
          "base_uri": "https://localhost:8080/",
          "height": 100
        },
        "id": "edHBTWaN00q7",
        "outputId": "e289abb6-1e8c-4dc4-bc79-0305ae316629"
      },
      "execution_count": null,
      "outputs": [
        {
          "output_type": "display_data",
          "data": {
            "text/plain": [
              "P⋅V = R⋅T⋅n"
            ],
            "text/latex": "$\\displaystyle P V = R T n$"
          },
          "metadata": {}
        },
        {
          "output_type": "display_data",
          "data": {
            "text/plain": [
              "⎡R⋅T⋅n⎤\n",
              "⎢─────⎥\n",
              "⎣  P  ⎦"
            ],
            "text/latex": "$\\displaystyle \\left[ \\frac{R T n}{P}\\right]$"
          },
          "metadata": {}
        },
        {
          "output_type": "execute_result",
          "data": {
            "text/plain": [
              "[24.466189]"
            ],
            "text/latex": "$\\displaystyle \\left[ 24.466189\\right]$"
          },
          "metadata": {},
          "execution_count": 149
        }
      ]
    }
  ]
}