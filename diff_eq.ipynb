{
  "nbformat": 4,
  "nbformat_minor": 0,
  "metadata": {
    "colab": {
      "provenance": [],
      "authorship_tag": "ABX9TyPCEY9CQWaEwEzHdp1SKPyW",
      "include_colab_link": true
    },
    "kernelspec": {
      "name": "python3",
      "display_name": "Python 3"
    },
    "language_info": {
      "name": "python"
    }
  },
  "cells": [
    {
      "cell_type": "markdown",
      "metadata": {
        "id": "view-in-github",
        "colab_type": "text"
      },
      "source": [
        "<a href=\"https://colab.research.google.com/github/heath-barnett/chem3020/blob/main/diff_eq.ipynb\" target=\"_parent\"><img src=\"https://colab.research.google.com/assets/colab-badge.svg\" alt=\"Open In Colab\"/></a>"
      ]
    },
    {
      "cell_type": "markdown",
      "source": [
        "### Differential Equations - Categories / Naming\n",
        "\n",
        "First off, a [**differential equation**](https://en.wikipedia.org/wiki/Differential_equation) is simply some type of mathematical equation that includes some type of derivative of a function.\n",
        "\n",
        "Wikipedia:\n",
        ">In applications, the functions generally represent physical quantities, the derivatives represent their rates of change, and the differential equation defines a relationship between the two. Such relations are common; therefore, differential equations play a prominent role in many disciplines including engineering, physics, chemistry, economics, and biology.\n",
        "\n",
        "Solving differential equations generally depends on the *type* of \"diff eq\", so there are some general categories:\n",
        "\n",
        "<div class=\"alert alert-block alert-success\">\n",
        "\n",
        "An **ordinary differential equation** (ODE) only involves one variable and thus ordinary derivatives.\n",
        "    \n",
        "A **partial differential equation** (PDE) includes multiple variables and partial derivatives.\n",
        "    \n",
        "</div>\n",
        "\n",
        "We also categorize differential equations by their **order** defined by the term with the highest derivative:\n",
        "- First derivatives = first-order differential equation\n",
        "- Second derivatives = second-order differential equation\n",
        "- etc.\n",
        "\n",
        "(Most differential equations in chemistry are either first-order or second-order.)\n",
        "\n",
        "We also categorize differential equations as [**linear**](https://en.wikipedia.org/wiki/Linear_differential_equation) or **nonlinear**\n",
        "\n",
        "Linear differential equations can be written in the form:\n",
        "$$\n",
        "a_{0}(x) y+a_{1}(x) y^{\\prime}+a_{2}(x) y^{\\prime \\prime}+\\cdots+a_{n}(x) y^{(n)}+b(x)=0\n",
        "$$\n",
        "\n",
        "As an example of a [nonlinear differential equation](https://en.wikipedia.org/wiki/Nonlinear_system#Nonlinear_differential_equations):\n",
        "$$\n",
        "\\frac{d y}{d x}+y^{2}=0\n",
        "$$\n",
        "\n",
        "(Note the problem is that the final term is $y^2$ not $y$, thus it's not linear.)\n",
        "\n",
        "Most non-linear differential equations cannot be solved into a formula, and require careful numeric simulation. We'll discuss a few important examples later.\n",
        "\n",
        "Finally, we consider **homogenous** differential equations, in which every term is proportional to y(x) (i.e., there is no constant):\n",
        "\n",
        "$$\n",
        "y^{\\prime}+q(x) y=0\n",
        "$$\n",
        "\n",
        "If there is a constant term, this is **non-homogenous**.\n",
        "\n",
        "$$\n",
        "y^{\\prime}+q(x) y=r(x)\n",
        "$$\n",
        "\n",
        "\n",
        "#### Summary:\n",
        "\n",
        "In short, the main ways to categorize differential equations. We ask because the types influence how we solve them. Some are trivial to solve, while others are very complex.\n",
        "\n",
        "- Order (first order, second order, third order ...)\n",
        "- Ordinary vs. Partial (single variable or multiple variable functions)\n",
        "- Linear vs. Nonlinear (linear has 1 as the highest order for variable present)\n",
        "- Homogenous vs. Non-homogenous (are there constants)\n",
        "\n",
        "#### Examples\n",
        "\n",
        "Homogeneous second-order linear ordinary differential equation\n",
        "\n",
        "$$\n",
        "\\frac{d^{2} u}{d x^{2}}-x \\frac{d u}{d x}+u=0\n",
        "$$\n",
        "\n",
        "Heterogeneous first-order nonlinear ordinary differential equation:\n",
        "\n",
        "$$\n",
        "\\frac{d u}{d x}=u^{2}+4\n",
        "$$\n",
        "\n",
        "So what is this equation?\n",
        "\n",
        "$$\n",
        "\\frac{d^{2} u}{d x^{2}}+\\omega^{2} u=0\n",
        "$$"
      ],
      "metadata": {
        "id": "UwfrClr4MlNP"
      }
    },
    {
      "cell_type": "code",
      "execution_count": null,
      "metadata": {
        "id": "DcV104ZN8kXz"
      },
      "outputs": [],
      "source": []
    },
    {
      "cell_type": "markdown",
      "source": [
        "### Examples of Solving First-Order Differential Equations - Guessing\n",
        "\n",
        "Let's consider a simple chemical reaction with the concentration varying as a function of time $c(t)$. Suppose the concentration decreases through a reaction at a rate proportional to the concentration:\n",
        "\n",
        "$$\n",
        "\\frac{d}{d t} c(t)=-k c(t)\n",
        "$$\n",
        "\n",
        "where $k$ is the rate constant, with units of inverse time.\n",
        "\n",
        "Differential equations can be hard, no shame in the guess and check approach. Our educated guess, we can call an **ansatz**, which is German for \"attempt.\" (Sometimes, it's also referred as a trial function.)\n",
        "\n",
        "I guess this exponential function:\n",
        "\n",
        "$$\n",
        "c(t)=A e^{\\alpha t}\n",
        "$$\n",
        "\n",
        "If we take the derivative, we see that $\\alpha = -k$\n",
        "\n",
        "The *initial condition* (i.e., the initial concentration at $t = 0$, $c(0)$) tells us:\n",
        "\n",
        "$$\n",
        "A = c_0\n",
        "$$\n",
        "\n",
        "which means that A is simply a constant, which will call $c_0$ going forward, making the final solution is:\n",
        "\n",
        "$$\n",
        "c(t)=c_{0} e^{-k t}\n",
        "$$\n",
        "\n",
        "Checking that this function does in fact solve the first-order differential equation:\n",
        "\n",
        "$$\n",
        "\\frac{d}{d t} c(t)=\\frac{d}{d t} c_{0} e^{-k t} = -kc_0 c(t)=-kc(t)\n",
        "$$\n",
        "where $k\\cdot c_0$ is a consant times a constant (and hence just another constant so we combine them into k)."
      ],
      "metadata": {
        "id": "1ZVsFqFpMu5L"
      }
    },
    {
      "cell_type": "code",
      "source": [],
      "metadata": {
        "id": "iZIfkCEwPPZP"
      },
      "execution_count": null,
      "outputs": []
    },
    {
      "cell_type": "markdown",
      "source": [
        "### Examples of Solving First-Order Differential Equations - Not Guessing (General Solutions)\n",
        "\n",
        "Let's take the general homogeneous first-order equation:\n",
        "\n",
        "$$\n",
        "\\frac{dy}{d x} +q(x) y=0\n",
        "$$\n",
        "\n",
        "This is also known as a \"reduced\" equation because there is no constant term.\n",
        "\n",
        "Withouth guessing a trial functiion, how do we solve this?\n",
        "\n",
        "We can try \"separation of variables.\" That is, if we get all the terms in $x$ on one side and $y$ on the other:\n",
        "\n",
        "$$\n",
        "\\frac{dy}{dx} = -q(x) y\n",
        "$$\n",
        "\n",
        "Then...\n",
        "\n",
        "$$\n",
        "\\frac{1}{y} d y=-q(x) d x\n",
        "$$\n",
        "\n",
        "Now we can integrate both sides:\n",
        "\n",
        "$$\n",
        "\\int \\frac{1}{y} d y=-\\int q(x) d x\n",
        "$$\n",
        "\n",
        "The left side is really easy to integrate:\n",
        "\n",
        "$$\n",
        "\\ln y(x)=-\\int q(x) d x+\\mathcal{C}\n",
        "$$\n",
        "\n",
        "Taking the exponent of both sides:\n",
        "\n",
        "$$\n",
        "y(x)=A \\exp \\left[-\\int q(x) d x\\right]\n",
        "$$\n",
        "\n",
        "Of course if $q(x)$ is a constant, this is easy, e.g.:\n",
        "\n",
        "$$\n",
        "y(x)=A e^{-\\alpha x}\n",
        "$$\n",
        "\n",
        "Notice this is the same as our original example with kinetics of a chemical reaction.\n",
        "\n",
        "# The Big Idea and Some Bad News\n",
        "\n",
        "The main take-home message is that with some integration and algebra, we can solve a wide variety of linear first-order differential equations. The bad news is that some differential equations are very hard or even impossible to slove. Experience and intuition can guide us here but ultimately we won't know until we spend a lot of time trying to solve them."
      ],
      "metadata": {
        "id": "d37PcdDkM4m8"
      }
    },
    {
      "cell_type": "code",
      "source": [],
      "metadata": {
        "id": "dCWzfM1bPiwb"
      },
      "execution_count": null,
      "outputs": []
    },
    {
      "cell_type": "markdown",
      "source": [],
      "metadata": {
        "id": "1aXd1nG-M_CS"
      }
    }
  ]
}