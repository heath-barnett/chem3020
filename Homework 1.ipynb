{
  "nbformat": 4,
  "nbformat_minor": 0,
  "metadata": {
    "colab": {
      "provenance": [],
      "authorship_tag": "ABX9TyNM8dNg02DF7ubxWUleB5Nm",
      "include_colab_link": true
    },
    "kernelspec": {
      "name": "python3",
      "display_name": "Python 3"
    },
    "language_info": {
      "name": "python"
    }
  },
  "cells": [
    {
      "cell_type": "markdown",
      "metadata": {
        "id": "view-in-github",
        "colab_type": "text"
      },
      "source": [
        "<a href=\"https://colab.research.google.com/github/heath-barnett/chem3020/blob/main/Homework%201.ipynb\" target=\"_parent\"><img src=\"https://colab.research.google.com/assets/colab-badge.svg\" alt=\"Open In Colab\"/></a>"
      ]
    },
    {
      "cell_type": "markdown",
      "source": [
        "# Homework - Introductory Exercises\n",
        "\n",
        "Be sure to execute the code block below this statement. It will load sympy for you and enable all the features you are used to. I have also already defined some variables and constants for you but you welcome to create new ones or alter the ones I have given.\n",
        "\n",
        "Don't forgot to save a copy of your notebook to your local drive as work!"
      ],
      "metadata": {
        "id": "vhG30aQrwRpF"
      }
    },
    {
      "cell_type": "code",
      "source": [
        "from sympy import *\n",
        "init_session()\n",
        "init_printing(use_unicode=True)\n",
        "%matplotlib inline\n",
        "\n",
        "P,V,T,m = symbols(\"P,V,T,m\", positive=True, real=True)                 # variables\n",
        "R,a,b,M = symbols(\"R,a,b,M\", positive=True, real=True, constant=True)  # constants"
      ],
      "metadata": {
        "id": "y4RDrv2VwamD"
      },
      "execution_count": null,
      "outputs": []
    },
    {
      "cell_type": "markdown",
      "source": [
        "# Question 1.1\n",
        "Plot the relationship between pressure and volume for 1.00 mol of He(g) at 298 K in an expandable vessel as it increases from 1 L $\\rightarrow$ 20 L. R = 0.08206 L·atm/mol·K. You can hardcode $T$, $n$ and $R$, you could also substitute their values into the expression, either is acceptable.\n",
        "\n",
        "$$PV = nRT$$"
      ],
      "metadata": {
        "id": "uZIXlmnOE2iY"
      }
    },
    {
      "cell_type": "code",
      "source": [],
      "metadata": {
        "id": "ncp1ba6fxXnV"
      },
      "execution_count": null,
      "outputs": []
    },
    {
      "cell_type": "markdown",
      "source": [
        "# Question 1.2\n",
        "\n",
        "The following is the equation for the work performed by a reversible, isothermal (i.e., constant $T$) expansion (volume of gas increases) of a piston by a fixed amount of gas (i.e. constant $n$).\n",
        "$$ w = \\int -\\frac{nRT}{V} dV $$\n",
        "Using SymPy, integrate this expression symbolically for $V$ (don't forget that sympy will express ln(x) as log(x)).\n"
      ],
      "metadata": {
        "id": "TXzduIvjvYO6"
      }
    },
    {
      "cell_type": "code",
      "source": [],
      "metadata": {
        "id": "klzwZOhQviLB"
      },
      "execution_count": null,
      "outputs": []
    },
    {
      "cell_type": "markdown",
      "source": [
        "# Question 1.3\n",
        "The following functions are an example of the sandwich theorem which aids in determining limits of function by knowing its range is between\n",
        "and in the relevant domain. Plot all three functions on the same axes to show that f(x), g(x) and h(x) for x of $-50\\rightarrow 50$. Be sure to include a legend.\n",
        "\n",
        "$f(x) = x^2$ $\\qquad g(x) = x^2\\cdot sin(x)$ $\\qquad h(x) = -x^2$"
      ],
      "metadata": {
        "id": "6fzBQhSzviox"
      }
    },
    {
      "cell_type": "code",
      "source": [],
      "metadata": {
        "id": "-kSlD4T1wHQX"
      },
      "execution_count": null,
      "outputs": []
    },
    {
      "cell_type": "markdown",
      "source": [
        "# Question 1.4\n",
        "Starting with the ideal gas equation of state, $PV = nRT$, and the fact the molar mass is defined as $M = \\frac{m}{n}$. Use sympy to solve for an expression that relates the molar mass of a gas, $M$, to the measured properties of a gas (and R). This problem will require the use of the `solve`, `Eq` and `subs` function. It is also possible to do this problem by hand (easily)."
      ],
      "metadata": {
        "id": "NDQi7IdTvyTw"
      }
    },
    {
      "cell_type": "code",
      "source": [],
      "metadata": {
        "id": "qpvGi4_MRgcQ"
      },
      "execution_count": null,
      "outputs": []
    },
    {
      "cell_type": "markdown",
      "source": [
        "# Question 1.5\n",
        "The van der Waals equation is a modified form of the ideal gas law but includes two correction factors that account for intermolecular forces and the volume of gas molecules. These correction factors include constants and which are gas-dependent.\n",
        "$$ \\left(P + \\frac{a}{V_m^2}\\right)(V_m - b) = RT $$\n",
        "where, $P$ is pressure, $V_m$ is the molar volume (i.e. n = 1 mol), $a$ is a constant representing intermolecular forces, $b$ is a constant accounting for molecular volume, $R$ is the ideal gas constant and $T$ is the temperature.Solve this equation of state for $P$, $T$ and $V$\n",
        "\n"
      ],
      "metadata": {
        "id": "Us5Szq59j6bS"
      }
    },
    {
      "cell_type": "code",
      "source": [],
      "metadata": {
        "id": "Ns-TgnG2wB8Q"
      },
      "execution_count": null,
      "outputs": []
    }
  ]
}