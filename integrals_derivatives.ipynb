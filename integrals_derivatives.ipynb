{
  "nbformat": 4,
  "nbformat_minor": 0,
  "metadata": {
    "colab": {
      "provenance": [],
      "authorship_tag": "ABX9TyMz9Nj8FgxrZMhEX4/AgquW",
      "include_colab_link": true
    },
    "kernelspec": {
      "name": "python3",
      "display_name": "Python 3"
    },
    "language_info": {
      "name": "python"
    }
  },
  "cells": [
    {
      "cell_type": "markdown",
      "metadata": {
        "id": "view-in-github",
        "colab_type": "text"
      },
      "source": [
        "<a href=\"https://colab.research.google.com/github/heath-barnett/chem3020/blob/main/integrals_derivatives.ipynb\" target=\"_parent\"><img src=\"https://colab.research.google.com/assets/colab-badge.svg\" alt=\"Open In Colab\"/></a>"
      ]
    },
    {
      "cell_type": "markdown",
      "source": [
        "# Limits and Derivatives of Functions\n",
        "# Basic Rules\n",
        "\n",
        "Before we get into any rules for derivatives, let's remember what the [derivative](https://en.wikipedia.org/wiki/Derivative) means **conceptually**.\n",
        "\n",
        "That's fairly easy to describe:\n",
        "\n",
        "$$ slope = \\frac{\\Delta f}{\\Delta x} = \\frac{f(x+\\Delta x) - f(x)}{\\Delta x} $$\n",
        "\n",
        "The question that [Newton and Leibnitz](https://en.wikipedia.org/wiki/Calculus) used when establishing calculus - what happens as $\\Delta x \\rightarrow 0$?\n",
        "\n",
        "A derivative is a fundamental concept in calculus that represents the rate of change of a function with respect to its input variable. In simpler terms, it tells us how much a function's output value changes when its input value changes slightly. The derivative of a function at a specific point gives us the instantaneous rate of change of the function at that point.\n",
        "\n",
        "Mathematically, if you have a function f(x), the derivative f'(x) (also denoted as $\\frac{dx}{df}$) represents the slope of the tangent line to the curve of the function at a given point x. It can be thought of as the \"steepness\" of the curve at that point.\n"
      ],
      "metadata": {
        "id": "xVv8-fqSbmvX"
      }
    },
    {
      "cell_type": "markdown",
      "source": [
        "# Notations\n",
        "Calculus was derived independently by both Newton and Leibnitz - who used different notation. As a result, there are a few ways to indicate the \"take a derivative\" operation.\n",
        "\n",
        "- $\\frac{df}{dx}$ - Leibnitz\n",
        "- $\\dot f$ - Newton (a.k.a. 'f-dot')\n",
        "- $f'$ - Lagrange (a.k.a. 'f-prime')\n",
        "- $D_x f(x)$ - Euler\n",
        "\n",
        "Similar notation exists for second derivatives, third derivatives, etc.:\n",
        "\n",
        "- $\\frac{d^2f}{dx^2}$ - Leibnitz\n",
        "- $\\ddot{f}, \\dddot{f}$ - Newton\n",
        "- $f''$ - Lagrange\n",
        "\n",
        "I try and use Leibnitz exclusivly in class to help avoid confusion but Lagrange notation may crop up at times."
      ],
      "metadata": {
        "id": "fgc8aPmSMD45"
      }
    },
    {
      "cell_type": "markdown",
      "source": [
        "### Evaluating Derivatives\n",
        "\n",
        "You *should* be able to do any of the following:\n",
        "\n",
        "- Constants\n",
        "\n",
        "$$\\frac{d}{dx} c = 0$$\n",
        "\n",
        "- Linear functions\n",
        "\n",
        "$$\\frac{d}{dx} ax + b = a$$\n",
        "\n",
        "- Polynomials\n",
        "\n",
        "$$\\frac{d}{dx} x^3 + x^2 = 3x^2 + 2x$$\n",
        "\n",
        "- Sum / Difference\n",
        "\n",
        "$$\\frac{d}{dx} [f(x) + g(x)] = \\frac{d}{dx}[f(x)] + \\frac{d}{dx}[g(x)]$$\n",
        "\n",
        "- Sine\n",
        "\n",
        "$$\\frac{d}{dx} \\sin ax = a \\cos ax$$\n",
        "\n",
        "- Cosine\n",
        "\n",
        "$$\\frac{d}{dx} \\cos ax = -a \\sin ax$$\n",
        "\n",
        "- Exponential\n",
        "\n",
        "$$\\frac{d}{dx} e^x = e^x$$\n",
        "\n",
        "- Log\n",
        "\n",
        "$$\\frac{d}{dx} \\log x = \\frac{1}{x} $$\n",
        "\n",
        "- Powers a<sup>x</sup>\n",
        "\n",
        "$$\\frac{d}{dx} a^x = a^x \\ln a$$\n",
        "\n",
        "- Chain Rule\n",
        "\n",
        "$$\\frac{d}{dx} f(g(x)) = \\frac{df}{dg}\\frac{dg}{dx}$$\n",
        "\n",
        ">For example:\n",
        "\n",
        "$$\\frac{d}{dx} e^{ax^2} = 2axe^{ax^2}$$\n",
        "\n",
        "- Product Rule\n",
        "\n",
        "$$\n",
        "\\frac{d}{d x}[f(x) g(x)]=f(x) \\frac{d g}{d x}+g(x) \\frac{d f}{d x}\n",
        "$$\n",
        "\n",
        "- Quotient Rule\n",
        "\n",
        "$$\n",
        "d\\left(\\frac{u}{v}\\right)=\\frac{v d u-u d v}{v^{2}}\n",
        "$$\n",
        "\n",
        "Note that the \"quotient rule\" can also be considered as a combination of the product rule and chain rule that are easier to remember:\n",
        "\n",
        "$$\n",
        "\\begin{aligned} \\frac{d}{d x}\\left[\\frac{f(x)}{g(x)}\\right] &=\\frac{1}{g(x)} \\frac{d f}{d x}+f(x) \\frac{d}{d x}\\left[\\frac{1}{g(x)}\\right] \\\\ &=\\frac{1}{g^{2}(x)} g(x) \\frac{d f}{d x}+f(x)\\left[-\\frac{1}{g^{2}(x)} \\frac{d g}{d x}\\right] \\\\ &=\\frac{1}{g^{2}(x)}\\left[g(x) \\frac{d f}{d x}-f(x) \\frac{d g}{d x}\\right] \\end{aligned}\n",
        "$$\n",
        "\n",
        "### Second derivatives, etc.\n",
        "\n",
        "You should remember that second derivatives are just repeated application of the rules:\n",
        "\n",
        "$$\\frac{d^2}{dx^2}[x^2] = \\frac{d}{dx}[2x] = 2$$"
      ],
      "metadata": {
        "id": "8BKUZPkaQZO0"
      }
    },
    {
      "cell_type": "markdown",
      "source": [
        "# Limits and Derivatives in Sympy\n",
        "\n",
        "Take derivatives with the `diff(expr,var)` function.\n",
        "\n",
        "where expr is the function/expression and var is the variable you taking the derivative with.\n",
        "\n",
        "Multiple derivatives can be taken by passing a"
      ],
      "metadata": {
        "id": "MMc5U6P6Aa6Y"
      }
    },
    {
      "cell_type": "code",
      "source": [
        "from sympy import *\n",
        "x, y, z = symbols('x y z')\n",
        "init_printing(use_unicode=True)"
      ],
      "metadata": {
        "id": "jO7xx1n_Alw3"
      },
      "execution_count": 1,
      "outputs": []
    },
    {
      "cell_type": "code",
      "execution_count": 17,
      "metadata": {
        "id": "6Jw4P_hKbltE",
        "colab": {
          "base_uri": "https://localhost:8080/",
          "height": 79
        },
        "outputId": "97c3d84a-db56-41f6-8c6a-67aac3e6fd93"
      },
      "outputs": [
        {
          "output_type": "display_data",
          "data": {
            "text/plain": [
              "   2\n",
              "3⋅x "
            ],
            "text/latex": "$\\displaystyle 3 x^{2}$"
          },
          "metadata": {}
        },
        {
          "output_type": "stream",
          "name": "stdout",
          "text": [
            "\n"
          ]
        },
        {
          "output_type": "execute_result",
          "data": {
            "text/plain": [
              "6⋅x"
            ],
            "text/latex": "$\\displaystyle 6 x$"
          },
          "metadata": {},
          "execution_count": 17
        }
      ],
      "source": [
        "f = 3*x**2\n",
        "display(f)\n",
        "print()\n",
        "diff(f,x)"
      ]
    },
    {
      "cell_type": "markdown",
      "source": [
        "diff can take multiple derivatives at once. To take multiple derivatives, pass the variable as many times as you wish to differentiate, or pass a number after the variable. For example, both of the following find the third derivative of $x^4$\n"
      ],
      "metadata": {
        "id": "McuTylcRBhiZ"
      }
    },
    {
      "cell_type": "code",
      "source": [
        "f = x**4\n",
        "display(f)\n",
        "print()\n",
        "display(diff(f,x,x,x))\n",
        "print()\n",
        "display(diff(f,x,3))"
      ],
      "metadata": {
        "colab": {
          "base_uri": "https://localhost:8080/",
          "height": 118
        },
        "id": "ZHiChAD6BoKI",
        "outputId": "7ed1dab9-b06f-41f0-cb09-72e87ca859b0"
      },
      "execution_count": 16,
      "outputs": [
        {
          "output_type": "display_data",
          "data": {
            "text/plain": [
              " 4\n",
              "x "
            ],
            "text/latex": "$\\displaystyle x^{4}$"
          },
          "metadata": {}
        },
        {
          "output_type": "stream",
          "name": "stdout",
          "text": [
            "\n"
          ]
        },
        {
          "output_type": "display_data",
          "data": {
            "text/plain": [
              "24⋅x"
            ],
            "text/latex": "$\\displaystyle 24 x$"
          },
          "metadata": {}
        },
        {
          "output_type": "stream",
          "name": "stdout",
          "text": [
            "\n"
          ]
        },
        {
          "output_type": "display_data",
          "data": {
            "text/plain": [
              "24⋅x"
            ],
            "text/latex": "$\\displaystyle 24 x$"
          },
          "metadata": {}
        }
      ]
    },
    {
      "cell_type": "markdown",
      "source": [
        "To create an unevaluated derivative (this has uses later), use the Derivative class. It has the same syntax as diff. To evaluate it, use `.doit()`."
      ],
      "metadata": {
        "id": "5FsRn68qCGY2"
      }
    },
    {
      "cell_type": "code",
      "source": [
        "f = sin(x)/x\n",
        "deriv = Derivative(f, x)\n",
        "display(deriv)\n",
        "print()\n",
        "display(deriv.doit())\n",
        "all = Eq(deriv,deriv.doit())\n",
        "print()\n",
        "display(all)"
      ],
      "metadata": {
        "colab": {
          "base_uri": "https://localhost:8080/",
          "height": 160
        },
        "id": "YXeListFCIdF",
        "outputId": "a997c39f-1776-4673-b608-8e11d568a0ae"
      },
      "execution_count": 15,
      "outputs": [
        {
          "output_type": "display_data",
          "data": {
            "text/plain": [
              "d ⎛sin(x)⎞\n",
              "──⎜──────⎟\n",
              "dx⎝  x   ⎠"
            ],
            "text/latex": "$\\displaystyle \\frac{d}{d x} \\frac{\\sin{\\left(x \\right)}}{x}$"
          },
          "metadata": {}
        },
        {
          "output_type": "stream",
          "name": "stdout",
          "text": [
            "\n"
          ]
        },
        {
          "output_type": "display_data",
          "data": {
            "text/plain": [
              "cos(x)   sin(x)\n",
              "────── - ──────\n",
              "  x         2  \n",
              "           x   "
            ],
            "text/latex": "$\\displaystyle \\frac{\\cos{\\left(x \\right)}}{x} - \\frac{\\sin{\\left(x \\right)}}{x^{2}}$"
          },
          "metadata": {}
        },
        {
          "output_type": "stream",
          "name": "stdout",
          "text": [
            "\n"
          ]
        },
        {
          "output_type": "display_data",
          "data": {
            "text/plain": [
              "d ⎛sin(x)⎞   cos(x)   sin(x)\n",
              "──⎜──────⎟ = ────── - ──────\n",
              "dx⎝  x   ⎠     x         2  \n",
              "                        x   "
            ],
            "text/latex": "$\\displaystyle \\frac{d}{d x} \\frac{\\sin{\\left(x \\right)}}{x} = \\frac{\\cos{\\left(x \\right)}}{x} - \\frac{\\sin{\\left(x \\right)}}{x^{2}}$"
          },
          "metadata": {}
        }
      ]
    },
    {
      "cell_type": "markdown",
      "source": [
        "### Plot Your Derivatives"
      ],
      "metadata": {
        "id": "6gMMhg6hE8vm"
      }
    },
    {
      "cell_type": "code",
      "source": [
        "f = sin(x)/x\n",
        "deriv = Derivative(f, x)\n",
        "plot(f,deriv.doit(),legend=True)"
      ],
      "metadata": {
        "colab": {
          "base_uri": "https://localhost:8080/",
          "height": 505
        },
        "id": "JpCouO-4E7t0",
        "outputId": "b8dad854-87c2-460d-eb83-1559ebab3583"
      },
      "execution_count": 24,
      "outputs": [
        {
          "output_type": "display_data",
          "data": {
            "text/plain": [
              "<Figure size 640x480 with 1 Axes>"
            ],
            "image/png": "[encoded data removed]"
          },
          "metadata": {}
        },
        {
          "output_type": "execute_result",
          "data": {
            "text/plain": [
              "<sympy.plotting.plot.Plot at 0x7825a1b228c0>"
            ]
          },
          "metadata": {},
          "execution_count": 24
        }
      ]
    },
    {
      "cell_type": "markdown",
      "source": [
        "# Limits with Sympy\n",
        "SymPy can compute symbolic limits with the limit function. We will not need to compute limits often in physical chemistry, since derivatives of most well behaved functions are also their limits. However, in the few cases where we will need to the syntax to compute a limit is straightforward.\n",
        "\n",
        "$$ \\lim_{x\\rightarrow 0^+}\\left(\\frac{sin(x)}{x}\\right)$$"
      ],
      "metadata": {
        "id": "Mt8jGY5UCkor"
      }
    },
    {
      "cell_type": "code",
      "source": [
        "f = sin(x)/x\n",
        "limit(f, x, 0)"
      ],
      "metadata": {
        "colab": {
          "base_uri": "https://localhost:8080/",
          "height": 37
        },
        "id": "PeBxt164CmMb",
        "outputId": "70897617-1f42-4ce8-b3ef-98f275292604"
      },
      "execution_count": 11,
      "outputs": [
        {
          "output_type": "execute_result",
          "data": {
            "text/plain": [
              "1"
            ],
            "text/latex": "$\\displaystyle 1$"
          },
          "metadata": {},
          "execution_count": 11
        }
      ]
    },
    {
      "cell_type": "markdown",
      "source": [
        "Like `Derivative` and `Integral`, `limit` has an unevaluated counterpart, `Limit`. To evaluate it, use `.doit()`."
      ],
      "metadata": {
        "id": "GDYl61OeDjCe"
      }
    },
    {
      "cell_type": "code",
      "source": [
        "expr = Limit((cos(x) - 1)/x, x, 0)\n",
        "display(expr)\n",
        "print()\n",
        "expr.doit()"
      ],
      "metadata": {
        "colab": {
          "base_uri": "https://localhost:8080/",
          "height": 96
        },
        "id": "oU2vj0HoDjhs",
        "outputId": "762d3491-25d5-42e5-efe4-78e1ce984912"
      },
      "execution_count": 9,
      "outputs": [
        {
          "output_type": "display_data",
          "data": {
            "text/plain": [
              "     ⎛cos(x) - 1⎞\n",
              " lim ⎜──────────⎟\n",
              "x─→0⁺⎝    x     ⎠"
            ],
            "text/latex": "$\\displaystyle \\lim_{x \\to 0^+}\\left(\\frac{\\cos{\\left(x \\right)} - 1}{x}\\right)$"
          },
          "metadata": {}
        },
        {
          "output_type": "stream",
          "name": "stdout",
          "text": [
            "\n"
          ]
        },
        {
          "output_type": "execute_result",
          "data": {
            "text/plain": [
              "0"
            ],
            "text/latex": "$\\displaystyle 0$"
          },
          "metadata": {},
          "execution_count": 9
        }
      ]
    },
    {
      "cell_type": "markdown",
      "source": [
        "### Integrals and Antiderivatives\n",
        "\n",
        "The integral of a function is literally written as the area under the curve. That is, if we want the area under $f(x)$ from $a$ to $b$, we can divide it up into a bunch of little rectangles: $x_{0}=a<x_{1}<\\cdots<x_{N}=b$\n",
        "\n",
        "$$\n",
        "\\int_{a}^{b} f(x) d x=\\lim _{N \\rightarrow \\infty} \\sum_{i=1}^{N} f\\left(x_{i}^{*}\\right)\\left(x_{i}-x_{i-1}\\right)\n",
        "$$\n",
        "\n",
        "Notice that the product $f(x_i^ * ) (x_i - x_{i-1})$ for each $i$ is the area of a rectangle of height $f(x_i^ * )$ and width $x_i - x_{i-1}$. We can think of these \"Riemann sums\" as the area of $N$ rectangles with heights determined by the graph of $y=f(x)$.\n",
        "\n",
        "(We can use this definition to calculate numerical integrals if we cannot determine the exact expression of an integral.)\n",
        "\n",
        "One question is often how this area under a curve connects with derivatives. After all, the derivative is the tangent to the curve at a particular point. What's the connection?\n",
        "\n",
        "This connection is actually so important, it's called the [Fundamental Theorem of Calculus](https://en.wikipedia.org/wiki/Fundamental_theorem_of_calculus).\n",
        "\n",
        "$$\n",
        " f(x) = \\frac{A(x + dx) - A(x)}{dx}\n",
        "$$\n",
        "\n",
        "Or, put another way, $A(x)$ is the antiderivative of $f(x)$."
      ],
      "metadata": {
        "id": "9m0R-pdGREni"
      }
    },
    {
      "cell_type": "markdown",
      "source": [
        "### Evaluating Integrals\n",
        "\n",
        "We'll discuss ***numeric*** integration later. Suffice to say that some times we don't have good ways to get an analytical formula for an integral.\n",
        "\n",
        "Let's start with derivatives, which we know:\n",
        "\n",
        "$$\n",
        "\\frac{d}{d x} f(x)=\\frac{df(x)}{dx} = f^{\\prime}(x)\n",
        "$$\n",
        "\n",
        "We saw the total differential as well - the change in the function vs. the change in the $x$ value:\n",
        "\n",
        "$$\n",
        "d f(x)=f^{\\prime}(x) d x\n",
        "$$\n",
        "\n",
        "So for any case where we know the derivative, we can set up known integrals:\n",
        "\n",
        "$$\n",
        "f(x)=\\int d f(x)=\\int f^{\\prime}(x) d x\n",
        "$$\n",
        "\n",
        "#### Some Review of Common Integrals\n",
        "\n",
        "- Integration of a constant:\n",
        "\n",
        "$$\n",
        "\\int a d x=a \\int d x=a x+C\n",
        "$$\n",
        "\n",
        "Note this also means that the integral of a constant times a function can be evaluated by taking the constant 'out front'.\n",
        "\n",
        "- Polynomials / powers:\n",
        "\n",
        "$$\n",
        "\\int x^{n} d x=\\frac{1}{n+1} x^{n+1}+C \\quad n \\neq-1\n",
        "$$\n",
        "\n",
        "- 1/x (i.e., what to do for $x^{-1}$ above\n",
        "\n",
        "$$\n",
        "\\int \\frac{1}{x} d x=\\ln x+C\n",
        "$$\n",
        "\n",
        "- Integral of sums:\n",
        "\n",
        "Much like derivatives, when we have multiple terms in an integral, we can integrate each part separately:\n",
        "\n",
        "$$\n",
        "\\int[f(x)+g(x)] d x=\\int f(x) d x+\\int g(x) d x\n",
        "$$\n",
        "\n",
        "- Exponential:\n",
        "\n",
        "Borrowing from derivatives, the integral of $e^x$ will be $e^x$\n",
        "\n",
        "$$\n",
        "\\int e^{a x} d x=\\frac{1}{a} e^{a x}+C\n",
        "$$\n",
        "\n",
        "- Sines and Cosines:\n",
        "\n",
        "$$\n",
        "\\begin{array}{l}\n",
        "\\int \\sin (a x) d x=-\\frac{1}{a} \\cos (a x)+C \\\\\n",
        "\\int \\cos (a x) d x=\\frac{1}{a} \\sin (a x)+C\n",
        "\\end{array}\n",
        "$$\n",
        "\n",
        "These are the main integrals you should know. There are a few tools to integrate more complicated integrals, and there are some known *definite* integrals.\n",
        "    \n",
        "Beyond that, there are a few other ways to evaluate more complicated integrals:\n",
        "- substitution of variables\n",
        "- some functions (even very complicated ones) have known integrals that can be found on texts\n",
        "- some integrals have no known formula, but are important enough to create \"special functions\" (e.g., the [error function erf(x)](https://en.wikipedia.org/wiki/Error_function)\n",
        "- use computer algebra / calculus tools like Mathematica or Sympy which will use combinations of these techniques\n",
        "- give up and perform numeric integration\n",
        "\n",
        "Back in the ye old days you had two options:\n",
        "\n",
        "1. Learn calculus and do these things by hand.\n",
        "2. Purchase a very expensive book of derivatives and integrals and hope that you could use it on exams.\n",
        "\n",
        "Since I am old, I can actually perform (some) derivatives and integrals in my head or with a bit of pen and paper.\n",
        "    \n",
        "Truthfully though, I do most of them with Sympy or Wolfram Alpha.\n",
        "\n",
        "I want you to concentrate more on concepts than on \"can you do integral substitutions by hand\" in this class. This does not alleviate you from understanding what you are doing. Sympy is a powerful tool, but in the hands of a moron it is useless.\n",
        "\n"
      ],
      "metadata": {
        "id": "1WAtjj6_RMaC"
      }
    },
    {
      "cell_type": "code",
      "source": [],
      "metadata": {
        "id": "69hJlgplRMDt"
      },
      "execution_count": null,
      "outputs": []
    }
  ]
}