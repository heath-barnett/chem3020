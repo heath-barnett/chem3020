{
  "cells": [
    {
      "cell_type": "markdown",
      "metadata": {
        "colab_type": "text",
        "id": "view-in-github"
      },
      "source": [
        "<a href=\"https://colab.research.google.com/github/heath-barnett/chem3020/blob/main/Experimental_Data.ipynb\" target=\"_parent\"><img src=\"https://colab.research.google.com/assets/colab-badge.svg\" alt=\"Open In Colab\"/></a>"
      ]
    },
    {
      "cell_type": "markdown",
      "metadata": {
        "id": "BTsMFAbNyOMg"
      },
      "source": [
        "# Experimental Data\n",
        "When collecting data from a scientific instrument, a measurement is returned as a value or series of values, and these values are composed of both signal and noise. The signal is the component of interest while the noise is random instrument response resulting from a variety of sources that can include the instrument itself, the sample holder, and even the tiny vibrations of the building. For the most interpretable data, you want the largest signal-to-noise ratio possible in order to reliably identify the features in the data.\n",
        "\n",
        "This lesson introduces the processing of experimental data including detecting features, removing noise from the data, and fitting the data to mathematical models. We will be using the NumPy library in this chapter and also start to use modules from the SciPy library. SciPy, short for “scientific python,” is one of the core libraries in the scientific Python ecosystem. This library includes a variety of modules for dealing with signal data, performing data transformations, and integrating sampled data among other common tasks in scientific data analysis.\n",
        "\n",
        "# Loading and Working with Experimental Data - Pandas\n",
        "\n",
        "**Pandas** is a popular open-source data manipulation and analysis library for the Python programming language. It provides easy-to-use data structures and functions to work with structured data, such as spreadsheets or SQL database tables. Here's a brief introduction to some key aspects of Pandas:\n",
        "\n",
        "1. **Data Structures:** Pandas primarily offers two key data structures: Series and DataFrame.\n",
        "\n",
        "   - **Series:** A one-dimensional labeled array capable of holding any data type. It's similar to a column in a spreadsheet or a single variable in statistics.\n",
        "   - **DataFrame:** A two-dimensional table-like structure with rows and columns. It's the most commonly used Pandas object and can be thought of as similar to a spreadsheet or SQL table.\n",
        "\n",
        "2. **Data Import/Export:** Pandas provides functions to read data from various file formats, including CSV, Excel, SQL databases, and more. You can also export data to these formats.\n",
        "\n",
        "3. **Data Cleaning and Preprocessing:** You can easily clean and preprocess data with Pandas. This includes handling missing values, dropping unnecessary columns, and transforming data.\n",
        "\n",
        "4. **Data Selection and Filtering:** Pandas offers powerful mechanisms for selecting and filtering data based on conditions, column names, and row indices.\n",
        "\n",
        "5. **Data Aggregation and Grouping:** You can perform aggregation operations like sum, mean, count, etc., on data using Pandas. It also supports grouping data by one or more columns.\n",
        "\n",
        "6. **Data Visualization:** Although not a primary data visualization library, Pandas can work seamlessly with popular visualization libraries like Matplotlib and Seaborn to create various plots and charts.\n",
        "\n",
        "7. **Time Series Data:** Pandas has robust support for time series data, making it a preferred choice for working with time-stamped data.\n",
        "\n",
        "8. **Integration with NumPy:** Pandas is built on top of the NumPy library, so it can efficiently handle numerical data and integrates well with NumPy arrays.\n",
        "\n",
        "Pandas is an essential tool for data analysis and manipulation in Python, and it's widely used in data science, machine learning, and other fields where data handling and analysis are crucial.\n",
        "\n",
        "All pandas functions are loaded into this notebook as  `pd.*` method. \n",
        "\n",
        "First we will load pandas, then read a csv with `pd.read_csv()` and then use a pandas to produce a scatter plot."
      ]
    },
    {
      "cell_type": "code",
      "execution_count": 22,
      "metadata": {},
      "outputs": [
        {
          "data": {
            "text/html": [
              "<div>\n",
              "<style scoped>\n",
              "    .dataframe tbody tr th:only-of-type {\n",
              "        vertical-align: middle;\n",
              "    }\n",
              "\n",
              "    .dataframe tbody tr th {\n",
              "        vertical-align: top;\n",
              "    }\n",
              "\n",
              "    .dataframe thead th {\n",
              "        text-align: right;\n",
              "    }\n",
              "</style>\n",
              "<table border=\"1\" class=\"dataframe\">\n",
              "  <thead>\n",
              "    <tr style=\"text-align: right;\">\n",
              "      <th></th>\n",
              "      <th>90.0</th>\n",
              "      <th>0.9986524525621605</th>\n",
              "    </tr>\n",
              "  </thead>\n",
              "  <tbody>\n",
              "    <tr>\n",
              "      <th>0</th>\n",
              "      <td>98.181818</td>\n",
              "      <td>0.754669</td>\n",
              "    </tr>\n",
              "    <tr>\n",
              "      <th>1</th>\n",
              "      <td>106.363636</td>\n",
              "      <td>0.795685</td>\n",
              "    </tr>\n",
              "    <tr>\n",
              "      <th>2</th>\n",
              "      <td>114.545455</td>\n",
              "      <td>0.643832</td>\n",
              "    </tr>\n",
              "    <tr>\n",
              "      <th>3</th>\n",
              "      <td>122.727273</td>\n",
              "      <td>0.706023</td>\n",
              "    </tr>\n",
              "    <tr>\n",
              "      <th>4</th>\n",
              "      <td>130.909091</td>\n",
              "      <td>0.636873</td>\n",
              "    </tr>\n",
              "    <tr>\n",
              "      <th>...</th>\n",
              "      <td>...</td>\n",
              "      <td>...</td>\n",
              "    </tr>\n",
              "    <tr>\n",
              "      <th>94</th>\n",
              "      <td>867.272727</td>\n",
              "      <td>0.103418</td>\n",
              "    </tr>\n",
              "    <tr>\n",
              "      <th>95</th>\n",
              "      <td>875.454545</td>\n",
              "      <td>0.102143</td>\n",
              "    </tr>\n",
              "    <tr>\n",
              "      <th>96</th>\n",
              "      <td>883.636364</td>\n",
              "      <td>0.100950</td>\n",
              "    </tr>\n",
              "    <tr>\n",
              "      <th>97</th>\n",
              "      <td>891.818182</td>\n",
              "      <td>0.100786</td>\n",
              "    </tr>\n",
              "    <tr>\n",
              "      <th>98</th>\n",
              "      <td>900.000000</td>\n",
              "      <td>0.098731</td>\n",
              "    </tr>\n",
              "  </tbody>\n",
              "</table>\n",
              "<p>99 rows × 2 columns</p>\n",
              "</div>"
            ],
            "text/plain": [
              "          90.0  0.9986524525621605\n",
              "0    98.181818            0.754669\n",
              "1   106.363636            0.795685\n",
              "2   114.545455            0.643832\n",
              "3   122.727273            0.706023\n",
              "4   130.909091            0.636873\n",
              "..         ...                 ...\n",
              "94  867.272727            0.103418\n",
              "95  875.454545            0.102143\n",
              "96  883.636364            0.100950\n",
              "97  891.818182            0.100786\n",
              "98  900.000000            0.098731\n",
              "\n",
              "[99 rows x 2 columns]"
            ]
          },
          "execution_count": 22,
          "metadata": {},
          "output_type": "execute_result"
        }
      ],
      "source": [
        "import pandas as pd\n",
        "%matplotlib inline\n",
        "\n",
        "raw_PV = pd.read_csv('data_PV.csv')\n",
        "raw_PV"
      ]
    },
    {
      "cell_type": "markdown",
      "metadata": {},
      "source": [
        "### Raw Data Can be Confusing\n",
        "Our data is truncated to save space but it does tell us that we have 99 rows and 2 columns. However, we know that we have 100 measurements of Pressure and Volume data. The data that we loaded has 3 columns, the first column is an index (a unique id for every set of measurements that is automatically generated), then two columns that look like our pressure and volume data but it only shows 99 measurements instead of 100. The columns also appear to be labed with one our measurements (the missng row). We can correct this with the following line of code."
      ]
    },
    {
      "cell_type": "code",
      "execution_count": 23,
      "metadata": {},
      "outputs": [
        {
          "data": {
            "text/html": [
              "<div>\n",
              "<style scoped>\n",
              "    .dataframe tbody tr th:only-of-type {\n",
              "        vertical-align: middle;\n",
              "    }\n",
              "\n",
              "    .dataframe tbody tr th {\n",
              "        vertical-align: top;\n",
              "    }\n",
              "\n",
              "    .dataframe thead th {\n",
              "        text-align: right;\n",
              "    }\n",
              "</style>\n",
              "<table border=\"1\" class=\"dataframe\">\n",
              "  <thead>\n",
              "    <tr style=\"text-align: right;\">\n",
              "      <th></th>\n",
              "      <th>Pressure</th>\n",
              "      <th>Volume</th>\n",
              "    </tr>\n",
              "  </thead>\n",
              "  <tbody>\n",
              "    <tr>\n",
              "      <th>0</th>\n",
              "      <td>90.000000</td>\n",
              "      <td>0.998652</td>\n",
              "    </tr>\n",
              "    <tr>\n",
              "      <th>1</th>\n",
              "      <td>98.181818</td>\n",
              "      <td>0.754669</td>\n",
              "    </tr>\n",
              "    <tr>\n",
              "      <th>2</th>\n",
              "      <td>106.363636</td>\n",
              "      <td>0.795685</td>\n",
              "    </tr>\n",
              "    <tr>\n",
              "      <th>3</th>\n",
              "      <td>114.545455</td>\n",
              "      <td>0.643832</td>\n",
              "    </tr>\n",
              "    <tr>\n",
              "      <th>4</th>\n",
              "      <td>122.727273</td>\n",
              "      <td>0.706023</td>\n",
              "    </tr>\n",
              "    <tr>\n",
              "      <th>...</th>\n",
              "      <td>...</td>\n",
              "      <td>...</td>\n",
              "    </tr>\n",
              "    <tr>\n",
              "      <th>95</th>\n",
              "      <td>867.272727</td>\n",
              "      <td>0.103418</td>\n",
              "    </tr>\n",
              "    <tr>\n",
              "      <th>96</th>\n",
              "      <td>875.454545</td>\n",
              "      <td>0.102143</td>\n",
              "    </tr>\n",
              "    <tr>\n",
              "      <th>97</th>\n",
              "      <td>883.636364</td>\n",
              "      <td>0.100950</td>\n",
              "    </tr>\n",
              "    <tr>\n",
              "      <th>98</th>\n",
              "      <td>891.818182</td>\n",
              "      <td>0.100786</td>\n",
              "    </tr>\n",
              "    <tr>\n",
              "      <th>99</th>\n",
              "      <td>900.000000</td>\n",
              "      <td>0.098731</td>\n",
              "    </tr>\n",
              "  </tbody>\n",
              "</table>\n",
              "<p>100 rows × 2 columns</p>\n",
              "</div>"
            ],
            "text/plain": [
              "      Pressure    Volume\n",
              "0    90.000000  0.998652\n",
              "1    98.181818  0.754669\n",
              "2   106.363636  0.795685\n",
              "3   114.545455  0.643832\n",
              "4   122.727273  0.706023\n",
              "..         ...       ...\n",
              "95  867.272727  0.103418\n",
              "96  875.454545  0.102143\n",
              "97  883.636364  0.100950\n",
              "98  891.818182  0.100786\n",
              "99  900.000000  0.098731\n",
              "\n",
              "[100 rows x 2 columns]"
            ]
          },
          "execution_count": 23,
          "metadata": {},
          "output_type": "execute_result"
        }
      ],
      "source": [
        "df_PV = pd.read_csv('data_PV.csv',names=['Pressure','Volume']) # the first column will now be called Pressure and the second column will be called Volume\n",
        "df_PV"
      ]
    },
    {
      "cell_type": "markdown",
      "metadata": {},
      "source": []
    },
    {
      "cell_type": "markdown",
      "metadata": {},
      "source": [
        "### Describe is a quick way to inspect your data.\n",
        "`variable_name.describe()` will generate some quick information about your data. You have no control over the information it collects, this is just a quick convience script. For each column it will tell you the number items (count), average (mean), standard deviation (std), minimum (min), 3 percentiles at 25/50/75 and the maximum (max)."
      ]
    },
    {
      "cell_type": "code",
      "execution_count": 24,
      "metadata": {},
      "outputs": [
        {
          "data": {
            "text/html": [
              "<div>\n",
              "<style scoped>\n",
              "    .dataframe tbody tr th:only-of-type {\n",
              "        vertical-align: middle;\n",
              "    }\n",
              "\n",
              "    .dataframe tbody tr th {\n",
              "        vertical-align: top;\n",
              "    }\n",
              "\n",
              "    .dataframe thead th {\n",
              "        text-align: right;\n",
              "    }\n",
              "</style>\n",
              "<table border=\"1\" class=\"dataframe\">\n",
              "  <thead>\n",
              "    <tr style=\"text-align: right;\">\n",
              "      <th></th>\n",
              "      <th>Pressure</th>\n",
              "      <th>Volume</th>\n",
              "    </tr>\n",
              "  </thead>\n",
              "  <tbody>\n",
              "    <tr>\n",
              "      <th>count</th>\n",
              "      <td>100.000000</td>\n",
              "      <td>100.000000</td>\n",
              "    </tr>\n",
              "    <tr>\n",
              "      <th>mean</th>\n",
              "      <td>495.000000</td>\n",
              "      <td>0.249003</td>\n",
              "    </tr>\n",
              "    <tr>\n",
              "      <th>std</th>\n",
              "      <td>237.366753</td>\n",
              "      <td>0.177604</td>\n",
              "    </tr>\n",
              "    <tr>\n",
              "      <th>min</th>\n",
              "      <td>90.000000</td>\n",
              "      <td>0.098731</td>\n",
              "    </tr>\n",
              "    <tr>\n",
              "      <th>25%</th>\n",
              "      <td>292.500000</td>\n",
              "      <td>0.127120</td>\n",
              "    </tr>\n",
              "    <tr>\n",
              "      <th>50%</th>\n",
              "      <td>495.000000</td>\n",
              "      <td>0.179622</td>\n",
              "    </tr>\n",
              "    <tr>\n",
              "      <th>75%</th>\n",
              "      <td>697.500000</td>\n",
              "      <td>0.300024</td>\n",
              "    </tr>\n",
              "    <tr>\n",
              "      <th>max</th>\n",
              "      <td>900.000000</td>\n",
              "      <td>0.998652</td>\n",
              "    </tr>\n",
              "  </tbody>\n",
              "</table>\n",
              "</div>"
            ],
            "text/plain": [
              "         Pressure      Volume\n",
              "count  100.000000  100.000000\n",
              "mean   495.000000    0.249003\n",
              "std    237.366753    0.177604\n",
              "min     90.000000    0.098731\n",
              "25%    292.500000    0.127120\n",
              "50%    495.000000    0.179622\n",
              "75%    697.500000    0.300024\n",
              "max    900.000000    0.998652"
            ]
          },
          "execution_count": 24,
          "metadata": {},
          "output_type": "execute_result"
        }
      ],
      "source": [
        "df_PV.describe()"
      ]
    },
    {
      "cell_type": "markdown",
      "metadata": {},
      "source": [
        "### Selecting Specific Data\n",
        "What if you just wanted the pressure data?"
      ]
    },
    {
      "cell_type": "code",
      "execution_count": 25,
      "metadata": {},
      "outputs": [
        {
          "data": {
            "text/plain": [
              "0      90.000000\n",
              "1      98.181818\n",
              "2     106.363636\n",
              "3     114.545455\n",
              "4     122.727273\n",
              "         ...    \n",
              "95    867.272727\n",
              "96    875.454545\n",
              "97    883.636364\n",
              "98    891.818182\n",
              "99    900.000000\n",
              "Name: Pressure, Length: 100, dtype: float64"
            ]
          },
          "execution_count": 25,
          "metadata": {},
          "output_type": "execute_result"
        }
      ],
      "source": [
        "df_PV['Pressure']"
      ]
    },
    {
      "cell_type": "markdown",
      "metadata": {},
      "source": [
        "What if you just want the first 15 Pressure and Volume data points?  "
      ]
    },
    {
      "cell_type": "code",
      "execution_count": 18,
      "metadata": {},
      "outputs": [
        {
          "data": {
            "text/html": [
              "<div>\n",
              "<style scoped>\n",
              "    .dataframe tbody tr th:only-of-type {\n",
              "        vertical-align: middle;\n",
              "    }\n",
              "\n",
              "    .dataframe tbody tr th {\n",
              "        vertical-align: top;\n",
              "    }\n",
              "\n",
              "    .dataframe thead th {\n",
              "        text-align: right;\n",
              "    }\n",
              "</style>\n",
              "<table border=\"1\" class=\"dataframe\">\n",
              "  <thead>\n",
              "    <tr style=\"text-align: right;\">\n",
              "      <th></th>\n",
              "      <th>Pressure</th>\n",
              "      <th>Volume</th>\n",
              "    </tr>\n",
              "  </thead>\n",
              "  <tbody>\n",
              "    <tr>\n",
              "      <th>0</th>\n",
              "      <td>90.000000</td>\n",
              "      <td>0.998652</td>\n",
              "    </tr>\n",
              "    <tr>\n",
              "      <th>1</th>\n",
              "      <td>98.181818</td>\n",
              "      <td>0.754669</td>\n",
              "    </tr>\n",
              "    <tr>\n",
              "      <th>2</th>\n",
              "      <td>106.363636</td>\n",
              "      <td>0.795685</td>\n",
              "    </tr>\n",
              "    <tr>\n",
              "      <th>3</th>\n",
              "      <td>114.545455</td>\n",
              "      <td>0.643832</td>\n",
              "    </tr>\n",
              "    <tr>\n",
              "      <th>4</th>\n",
              "      <td>122.727273</td>\n",
              "      <td>0.706023</td>\n",
              "    </tr>\n",
              "    <tr>\n",
              "      <th>5</th>\n",
              "      <td>130.909091</td>\n",
              "      <td>0.636873</td>\n",
              "    </tr>\n",
              "    <tr>\n",
              "      <th>6</th>\n",
              "      <td>139.090909</td>\n",
              "      <td>0.535593</td>\n",
              "    </tr>\n",
              "    <tr>\n",
              "      <th>7</th>\n",
              "      <td>147.272727</td>\n",
              "      <td>0.601280</td>\n",
              "    </tr>\n",
              "    <tr>\n",
              "      <th>8</th>\n",
              "      <td>155.454545</td>\n",
              "      <td>0.557487</td>\n",
              "    </tr>\n",
              "    <tr>\n",
              "      <th>9</th>\n",
              "      <td>163.636364</td>\n",
              "      <td>0.523806</td>\n",
              "    </tr>\n",
              "    <tr>\n",
              "      <th>10</th>\n",
              "      <td>171.818182</td>\n",
              "      <td>0.516829</td>\n",
              "    </tr>\n",
              "    <tr>\n",
              "      <th>11</th>\n",
              "      <td>180.000000</td>\n",
              "      <td>0.470827</td>\n",
              "    </tr>\n",
              "    <tr>\n",
              "      <th>12</th>\n",
              "      <td>188.181818</td>\n",
              "      <td>0.455684</td>\n",
              "    </tr>\n",
              "    <tr>\n",
              "      <th>13</th>\n",
              "      <td>196.363636</td>\n",
              "      <td>0.434056</td>\n",
              "    </tr>\n",
              "    <tr>\n",
              "      <th>14</th>\n",
              "      <td>204.545455</td>\n",
              "      <td>0.439108</td>\n",
              "    </tr>\n",
              "    <tr>\n",
              "      <th>15</th>\n",
              "      <td>212.727273</td>\n",
              "      <td>0.413624</td>\n",
              "    </tr>\n",
              "    <tr>\n",
              "      <th>16</th>\n",
              "      <td>220.909091</td>\n",
              "      <td>0.384901</td>\n",
              "    </tr>\n",
              "    <tr>\n",
              "      <th>17</th>\n",
              "      <td>229.090909</td>\n",
              "      <td>0.386170</td>\n",
              "    </tr>\n",
              "    <tr>\n",
              "      <th>18</th>\n",
              "      <td>237.272727</td>\n",
              "      <td>0.375938</td>\n",
              "    </tr>\n",
              "    <tr>\n",
              "      <th>19</th>\n",
              "      <td>245.454545</td>\n",
              "      <td>0.354421</td>\n",
              "    </tr>\n",
              "    <tr>\n",
              "      <th>20</th>\n",
              "      <td>253.636364</td>\n",
              "      <td>0.348848</td>\n",
              "    </tr>\n",
              "    <tr>\n",
              "      <th>21</th>\n",
              "      <td>261.818182</td>\n",
              "      <td>0.333547</td>\n",
              "    </tr>\n",
              "    <tr>\n",
              "      <th>22</th>\n",
              "      <td>270.000000</td>\n",
              "      <td>0.326566</td>\n",
              "    </tr>\n",
              "    <tr>\n",
              "      <th>23</th>\n",
              "      <td>278.181818</td>\n",
              "      <td>0.306745</td>\n",
              "    </tr>\n",
              "  </tbody>\n",
              "</table>\n",
              "</div>"
            ],
            "text/plain": [
              "      Pressure    Volume\n",
              "0    90.000000  0.998652\n",
              "1    98.181818  0.754669\n",
              "2   106.363636  0.795685\n",
              "3   114.545455  0.643832\n",
              "4   122.727273  0.706023\n",
              "5   130.909091  0.636873\n",
              "6   139.090909  0.535593\n",
              "7   147.272727  0.601280\n",
              "8   155.454545  0.557487\n",
              "9   163.636364  0.523806\n",
              "10  171.818182  0.516829\n",
              "11  180.000000  0.470827\n",
              "12  188.181818  0.455684\n",
              "13  196.363636  0.434056\n",
              "14  204.545455  0.439108\n",
              "15  212.727273  0.413624\n",
              "16  220.909091  0.384901\n",
              "17  229.090909  0.386170\n",
              "18  237.272727  0.375938\n",
              "19  245.454545  0.354421\n",
              "20  253.636364  0.348848\n",
              "21  261.818182  0.333547\n",
              "22  270.000000  0.326566\n",
              "23  278.181818  0.306745"
            ]
          },
          "execution_count": 18,
          "metadata": {},
          "output_type": "execute_result"
        }
      ],
      "source": [
        "df_PV[0:14] # python is base-index 0 which means it starts counting from 0 not 1, the : means \"between\""
      ]
    },
    {
      "cell_type": "markdown",
      "metadata": {},
      "source": [
        "# Plotting Data with Pandas\n",
        "Pandas is not designed for publication quality figures but it has some built-in plotting functions for convience (similar to SymPy).\n",
        "Plotting data in Pandas is made easy with its integration with the Matplotlib library. Here's a step-by-step guide to plotting data in Pandas:\n",
        "\n",
        "## **Basic Plotting**:\n",
        "   You can quickly create basic plots directly from the DataFrame. For example, to create a line plot of a column:\n",
        "\n",
        "   ```python\n",
        "   df['column_name'].plot()\n",
        "   ```"
      ]
    },
    {
      "cell_type": "code",
      "execution_count": 27,
      "metadata": {},
      "outputs": [
        {
          "data": {
            "text/plain": [
              "<AxesSubplot:>"
            ]
          },
          "execution_count": 27,
          "metadata": {},
          "output_type": "execute_result"
        },
        {
          "data": {
            "image/png": "[encoded data removed]",
            "text/plain": [
              "<Figure size 432x288 with 1 Axes>"
            ]
          },
          "metadata": {
            "needs_background": "light"
          },
          "output_type": "display_data"
        }
      ],
      "source": [
        "df_PV['Pressure'].plot() # please note that this just the pressure plotted against the index, it will look linear but thats just a coincidence it is not plotting things of interest."
      ]
    },
    {
      "cell_type": "markdown",
      "metadata": {},
      "source": [
        "## **Customizing Plots**:\n",
        "   You can customize your plots using various parameters and methods:\n",
        "\n",
        "   - Title, xlabel, and ylabel:\n",
        "     ```python\n",
        "     df['column_name'].plot(title='Title', xlabel='X-axis', ylabel='Y-axis')\n",
        "     ```\n",
        "\n",
        "   - Line style and color:\n",
        "     ```python\n",
        "     df['column_name'].plot(style='--', color='red')\n",
        "     ```\n",
        "\n",
        "   - Legends:\n",
        "     ```python\n",
        "     df.plot(x='x_column', y='y_column', label='Label 1')\n",
        "     df.plot(x='x_column', y='y2_column', label='Label 2')\n",
        "     plt.legend()\n",
        "     ```"
      ]
    },
    {
      "cell_type": "code",
      "execution_count": 36,
      "metadata": {},
      "outputs": [
        {
          "data": {
            "text/plain": [
              "<matplotlib.legend.Legend at 0x112b615b0>"
            ]
          },
          "execution_count": 36,
          "metadata": {},
          "output_type": "execute_result"
        },
        {
          "data": {
            "image/png": "[encoded data removed]",
            "text/plain": [
              "<Figure size 432x288 with 1 Axes>"
            ]
          },
          "metadata": {
            "needs_background": "light"
          },
          "output_type": "display_data"
        }
      ],
      "source": [
        "df_PV['Pressure'].plot(title = 'Fancy Title', xlabel = 'just the index', ylabel = 'Pressure', style='-+',color='red').legend()"
      ]
    },
    {
      "cell_type": "markdown",
      "metadata": {},
      "source": [
        "## **Different Types of Plots**:\n",
        "\n",
        "   - Scatter Plot:\n",
        "     ```python\n",
        "     df.plot.scatter(x='x_column', y='y_column')\n",
        "     ```\n",
        "\n",
        "   - Histogram:\n",
        "     ```python\n",
        "     df['column_name'].plot.hist()\n",
        "     ```\n",
        "\n",
        "   - Bar Plot:\n",
        "     ```python\n",
        "     df['column_name'].plot.bar()\n",
        "     ```\n",
        "\n",
        "   - Box Plot:\n",
        "     ```python\n",
        "     df.boxplot(column='column_name')\n",
        "     ```"
      ]
    },
    {
      "cell_type": "code",
      "execution_count": 37,
      "metadata": {},
      "outputs": [
        {
          "data": {
            "text/plain": [
              "<AxesSubplot:xlabel='Pressure', ylabel='Volume'>"
            ]
          },
          "execution_count": 37,
          "metadata": {},
          "output_type": "execute_result"
        },
        {
          "data": {
            "image/png": "[encoded data removed]",
            "text/plain": [
              "<Figure size 432x288 with 1 Axes>"
            ]
          },
          "metadata": {
            "needs_background": "light"
          },
          "output_type": "display_data"
        }
      ],
      "source": [
        "df_PV.plot.scatter(x='Pressure',y='Volume',marker='.', color ='DarkBlue') # Actual data!"
      ]
    },
    {
      "cell_type": "markdown",
      "metadata": {},
      "source": []
    },
    {
      "cell_type": "code",
      "execution_count": 26,
      "metadata": {},
      "outputs": [
        {
          "data": {
            "text/plain": [
              "<AxesSubplot:>"
            ]
          },
          "execution_count": 26,
          "metadata": {},
          "output_type": "execute_result"
        },
        {
          "data": {
            "image/png": "[encoded data removed]",
            "text/plain": [
              "<Figure size 432x288 with 1 Axes>"
            ]
          },
          "metadata": {
            "needs_background": "light"
          },
          "output_type": "display_data"
        }
      ],
      "source": [
        "   "
      ]
    },
    {
      "cell_type": "code",
      "execution_count": 3,
      "metadata": {},
      "outputs": [
        {
          "data": {
            "text/plain": [
              "<AxesSubplot:xlabel='Pressure', ylabel='Volume'>"
            ]
          },
          "execution_count": 3,
          "metadata": {},
          "output_type": "execute_result"
        },
        {
          "data": {
            "image/png": "[encoded data removed]",
            "text/plain": [
              "<Figure size 432x288 with 1 Axes>"
            ]
          },
          "metadata": {
            "needs_background": "light"
          },
          "output_type": "display_data"
        }
      ],
      "source": [
        "df_PV.plot.scatter(x='Pressure',y='Volume',marker='.', color ='DarkBlue')"
      ]
    },
    {
      "cell_type": "markdown",
      "metadata": {},
      "source": [
        "## **Multiple Plots**:\n",
        "   You can create subplots or multiple plots in a single figure.\n",
        "\n",
        "   ```python\n",
        "   fig, axes = plt.subplots(nrows=2, ncols=2)\n",
        "   df['column1'].plot(ax=axes[0, 0])\n",
        "   df['column2'].plot(ax=axes[0, 1])\n",
        "   df['column3'].plot(ax=axes[1, 0])\n",
        "   df['column4'].plot(ax=axes[1, 1])\n",
        "   plt.show()\n",
        "   ```"
      ]
    },
    {
      "cell_type": "code",
      "execution_count": 57,
      "metadata": {},
      "outputs": [
        {
          "data": {
            "text/plain": [
              "<matplotlib.legend.Legend at 0x11400ed30>"
            ]
          },
          "execution_count": 57,
          "metadata": {},
          "output_type": "execute_result"
        },
        {
          "data": {
            "image/png": "[encoded data removed]",
            "text/plain": [
              "<Figure size 432x288 with 1 Axes>"
            ]
          },
          "metadata": {
            "needs_background": "light"
          },
          "output_type": "display_data"
        }
      ],
      "source": [
        "df_PV['V2'] = df_PV['Volume']*2+1 # just making some other data for plots\n",
        "df_PV['V3'] = df_PV['Volume']**2 # just making some other data for plots\n",
        "\n",
        "ax1 = df_PV.plot(kind='scatter', x='Pressure', y='Volume', color='r',label='Volume')    \n",
        "ax2 = df_PV.plot(kind='scatter', x='Pressure', y='V2', color='g', ax=ax1,label='Fake Volume')    \n",
        "ax3 = df_PV.plot(kind='scatter', x='Pressure', y='V3', color='b', ax=ax1,ylabel = 'Volume', label = 'Faker Volume')\n",
        "ax1.legend()"
      ]
    },
    {
      "cell_type": "markdown",
      "metadata": {},
      "source": [
        "## **Saving Plots**:\n",
        "   You can save your plots as image files, such as PNG or JPEG. You can just copy/paste as well.\n",
        "\n",
        "   ```python\n",
        "   df['column_name'].plot()\n",
        "   plt.savefig('plot.png')\n",
        "   ```"
      ]
    },
    {
      "cell_type": "markdown",
      "metadata": {},
      "source": [
        "# Linear (and Nonlinear) Regression\n",
        "\n",
        "Probably all of you have fit a trendline through a set of data in Excel or another program:\n",
        "\n",
        "$$\n",
        "y = mx + b\n",
        "$$ \n",
        "\n",
        "There are assumptions behind linear regression:\n",
        "\n",
        "- **Linearity**: the relationship between X and Y is linear.\n",
        "- **Independence**: observations are independent of each other (e.g., it's not a time series)\n",
        "- **Homoscedasticity**: the residual errors do not depend on X\n",
        "- **Normality**: the residual errors are normally distributed\n",
        "\n",
        "It's fairly easy to use some diagnostic plots to test these assumptions, particularly:\n",
        "- looking at the observed Y values versus the fitted values\n",
        "- looking at the residual errors as a function of X values\n",
        "\n",
        "We'll talk about the assumptions and what to do if they don't hold up later.\n",
        "\n",
        "There are several packages in Python that can (and will) do curve fitting - each has somewhat different features, but for basic curve fitting it really doesn't matter which one you choose.\n",
        "\n",
        "We're going to use `scipy.stats` for linear regression and `scipy.optimize` for general curve fitting."
      ]
    },
    {
      "cell_type": "markdown",
      "metadata": {
        "id": "h_VwwDvly-vz"
      },
      "source": [
        "# Loading SciPy\n",
        "In contrast to SymPy and NumPy, each module from SciPy needs to be imported individually (too many in scipy to load all of them at one time), so import scipy is not going help you much. Instead, you need to do the following to import a module.\n",
        "\n",
        "`from scipy import <specific module or function>`"
      ]
    },
    {
      "cell_type": "code",
      "execution_count": 61,
      "metadata": {},
      "outputs": [],
      "source": [
        "from scipy import optimize, stats\n",
        "import numpy as np\n",
        "import matplotlib.pyplot as plt"
      ]
    },
    {
      "cell_type": "markdown",
      "metadata": {},
      "source": [
        "Just in case we are going to reload our PV data and do a quick scatter plot to verify that it looks good."
      ]
    },
    {
      "cell_type": "code",
      "execution_count": 59,
      "metadata": {
        "id": "PmnpqOBayDP7"
      },
      "outputs": [
        {
          "data": {
            "text/plain": [
              "<AxesSubplot:xlabel='Pressure', ylabel='Volume'>"
            ]
          },
          "execution_count": 59,
          "metadata": {},
          "output_type": "execute_result"
        },
        {
          "data": {
            "image/png": "[encoded data removed]",
            "text/plain": [
              "<Figure size 432x288 with 1 Axes>"
            ]
          },
          "metadata": {
            "needs_background": "light"
          },
          "output_type": "display_data"
        }
      ],
      "source": [
        "df_PV = pd.read_csv('data_PV.csv',names=['Pressure','Volume']) \n",
        "df_PV.plot.scatter(x='Pressure',y='Volume',marker='o', color ='Green')"
      ]
    },
    {
      "cell_type": "markdown",
      "metadata": {},
      "source": [
        "We will next seperate our Pressure and Volume data to two seperate variables, this is not strictly neccessary but it makes things easier to work with later. We will then run `scipy.stats.linregress(X,Y)` to perform a linear regression on our Pressure and Volume data. The command produces several outputs, which we will assign to the variables: slope, intercept, r_value, p_value, std_err. This is not strictly neccessary either, we could just assign everything to one variable but again this is for ease later. Finally, we will plot what our fit looks like."
      ]
    },
    {
      "cell_type": "code",
      "execution_count": 70,
      "metadata": {},
      "outputs": [
        {
          "name": "stdout",
          "output_type": "stream",
          "text": [
            "slope is -0.0006328992698288482\n",
            "intercept is 0.5622885897262142\n",
            "r-squared is 0.7154888132673878\n"
          ]
        },
        {
          "data": {
            "text/plain": [
              "Text(0, 0.5, 'Volume')"
            ]
          },
          "execution_count": 70,
          "metadata": {},
          "output_type": "execute_result"
        },
        {
          "data": {
            "image/png": "[encoded data removed]",
            "text/plain": [
              "<Figure size 432x288 with 1 Axes>"
            ]
          },
          "metadata": {
            "needs_background": "light"
          },
          "output_type": "display_data"
        }
      ],
      "source": [
        "Pressure = df_PV['Pressure']\n",
        "Volume = df_PV['Volume']\n",
        "\n",
        "slope, intercept, r_value, p_value, std_err = stats.linregress(Pressure, Volume)\n",
        "print('slope is', slope)\n",
        "print('intercept is', intercept)\n",
        "print('r-squared is', r_value**2)\n",
        "\n",
        "plt.scatter(Pressure, Volume,color='blue')\n",
        "\n",
        "line_x = np.arange(Pressure.min(), Pressure.max())\n",
        "line_y = slope*line_x + intercept\n",
        "\n",
        "plt.plot(line_x, line_y , color='orange',label='$R^2=%.2f$' % (r_value**2))\n",
        "plt.legend(loc='best')\n",
        "plt.xlabel('Pressure')\n",
        "plt.ylabel('Volume')"
      ]
    },
    {
      "cell_type": "markdown",
      "metadata": {},
      "source": [
        "# Did we do good?\n",
        "No, no we didn't. Why?"
      ]
    },
    {
      "cell_type": "code",
      "execution_count": 80,
      "metadata": {},
      "outputs": [
        {
          "name": "stdout",
          "output_type": "stream",
          "text": [
            "slope is 82.0456128404786\n",
            "intercept is 0.013022676347298978\n",
            "r-squared is 0.989795227387516\n"
          ]
        },
        {
          "data": {
            "text/plain": [
              "Text(0, 0.5, 'Volume')"
            ]
          },
          "execution_count": 80,
          "metadata": {},
          "output_type": "execute_result"
        },
        {
          "data": {
            "image/png": "[encoded data removed]",
            "text/plain": [
              "<Figure size 432x288 with 1 Axes>"
            ]
          },
          "metadata": {
            "needs_background": "light"
          },
          "output_type": "display_data"
        }
      ],
      "source": [
        "slope, intercept, r_value, p_value, std_err = stats.linregress(1/Pressure, Volume)\n",
        "print('slope is', slope)\n",
        "print('intercept is', intercept)\n",
        "print('r-squared is', r_value**2)\n",
        "\n",
        "plt.scatter(1/Pressure, Volume,color='blue')\n",
        "\n",
        "line_x = np.arange(Pressure.min(), Pressure.max())\n",
        "line_y = slope*(1/line_x) + intercept\n",
        "\n",
        "plt.plot(1/line_x, line_y , color='orange',label='$R^2=%.2f$' % (r_value**2))\n",
        "plt.legend(loc='best')\n",
        "plt.xlabel('Inverse Pressure')\n",
        "plt.ylabel('Volume')"
      ]
    },
    {
      "cell_type": "markdown",
      "metadata": {},
      "source": [
        "# Non-linear Fitting (i.e. Curve Fitting)"
      ]
    },
    {
      "cell_type": "code",
      "execution_count": 88,
      "metadata": {
        "colab": {
          "base_uri": "https://localhost:8080/",
          "height": 448
        },
        "id": "TOu1DR-H01j8",
        "outputId": "4b3e61be-f48b-4f71-be33-524cd0fb4602"
      },
      "outputs": [
        {
          "data": {
            "image/png": "[encoded data removed]",
            "text/plain": [
              "<Figure size 432x288 with 1 Axes>"
            ]
          },
          "metadata": {
            "needs_background": "light"
          },
          "output_type": "display_data"
        }
      ],
      "source": [
        "def model_P(x,a,b,c):\n",
        "  return a*(x-b)**2+c\n",
        "\n",
        "popt, pcov = optimize.curve_fit(model_P, Pressure, Volume, p0=[3,2,-16])\n",
        "\n",
        "a_opt, b_opt, c_opt = popt\n",
        "x_model = np.linspace(Pressure.min(), Pressure.max(), 100)\n",
        "y_model = model_f(x_model, a_opt, b_opt, c_opt) \n",
        " \n",
        "plt.scatter(Pressure, Volume)\n",
        "plt.plot(x_model, y_model, color='r')\n",
        "plt.show()"
      ]
    },
    {
      "cell_type": "code",
      "execution_count": 89,
      "metadata": {
        "colab": {
          "base_uri": "https://localhost:8080/",
          "height": 39
        },
        "id": "1vl-0TcW1tlY",
        "outputId": "0390baff-0b69-4194-efdf-9cd4a4d8c6fa"
      },
      "outputs": [
        {
          "data": {
            "image/png": "[encoded data removed]",
            "text/plain": [
              "<Figure size 432x288 with 2 Axes>"
            ]
          },
          "metadata": {
            "needs_background": "light"
          },
          "output_type": "display_data"
        }
      ],
      "source": [
        "plt.imshow(np.log(np.abs(pcov)))\n",
        "plt.colorbar()\n",
        "plt.show()"
      ]
    },
    {
      "cell_type": "code",
      "execution_count": null,
      "metadata": {
        "id": "-fXqpkDc14Ao"
      },
      "outputs": [],
      "source": []
    }
  ],
  "metadata": {
    "colab": {
      "authorship_tag": "ABX9TyOnr5YzK8n2ibTPYszWCqCx",
      "include_colab_link": true,
      "provenance": []
    },
    "kernelspec": {
      "display_name": "Python 3",
      "name": "python3"
    },
    "language_info": {
      "codemirror_mode": {
        "name": "ipython",
        "version": 3
      },
      "file_extension": ".py",
      "mimetype": "text/x-python",
      "name": "python",
      "nbconvert_exporter": "python",
      "pygments_lexer": "ipython3",
      "version": "3.9.17"
    }
  },
  "nbformat": 4,
  "nbformat_minor": 0
}
